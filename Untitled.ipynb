{
 "cells": [
  {
   "cell_type": "code",
   "execution_count": 1,
   "id": "3e3e9bcf",
   "metadata": {
    "scrolled": true
   },
   "outputs": [
    {
     "data": {
      "text/html": [
       "<div>\n",
       "<style scoped>\n",
       "    .dataframe tbody tr th:only-of-type {\n",
       "        vertical-align: middle;\n",
       "    }\n",
       "\n",
       "    .dataframe tbody tr th {\n",
       "        vertical-align: top;\n",
       "    }\n",
       "\n",
       "    .dataframe thead th {\n",
       "        text-align: right;\n",
       "    }\n",
       "</style>\n",
       "<table border=\"1\" class=\"dataframe\">\n",
       "  <thead>\n",
       "    <tr style=\"text-align: right;\">\n",
       "      <th></th>\n",
       "      <th>Unnamed: 0</th>\n",
       "      <th>Gender</th>\n",
       "      <th>EthnicGroup</th>\n",
       "      <th>ParentEduc</th>\n",
       "      <th>LunchType</th>\n",
       "      <th>TestPrep</th>\n",
       "      <th>ParentMaritalStatus</th>\n",
       "      <th>PracticeSport</th>\n",
       "      <th>IsFirstChild</th>\n",
       "      <th>NrSiblings</th>\n",
       "      <th>TransportMeans</th>\n",
       "      <th>WklyStudyHours</th>\n",
       "      <th>MathScore</th>\n",
       "      <th>ReadingScore</th>\n",
       "      <th>WritingScore</th>\n",
       "    </tr>\n",
       "  </thead>\n",
       "  <tbody>\n",
       "    <tr>\n",
       "      <th>2</th>\n",
       "      <td>2</td>\n",
       "      <td>female</td>\n",
       "      <td>group B</td>\n",
       "      <td>master's degree</td>\n",
       "      <td>standard</td>\n",
       "      <td>none</td>\n",
       "      <td>single</td>\n",
       "      <td>sometimes</td>\n",
       "      <td>yes</td>\n",
       "      <td>4.0</td>\n",
       "      <td>school_bus</td>\n",
       "      <td>&lt; 5</td>\n",
       "      <td>87</td>\n",
       "      <td>93</td>\n",
       "      <td>91</td>\n",
       "    </tr>\n",
       "    <tr>\n",
       "      <th>4</th>\n",
       "      <td>4</td>\n",
       "      <td>male</td>\n",
       "      <td>group C</td>\n",
       "      <td>some college</td>\n",
       "      <td>standard</td>\n",
       "      <td>none</td>\n",
       "      <td>married</td>\n",
       "      <td>sometimes</td>\n",
       "      <td>yes</td>\n",
       "      <td>0.0</td>\n",
       "      <td>school_bus</td>\n",
       "      <td>5 - 10</td>\n",
       "      <td>76</td>\n",
       "      <td>78</td>\n",
       "      <td>75</td>\n",
       "    </tr>\n",
       "    <tr>\n",
       "      <th>5</th>\n",
       "      <td>5</td>\n",
       "      <td>female</td>\n",
       "      <td>group B</td>\n",
       "      <td>associate's degree</td>\n",
       "      <td>standard</td>\n",
       "      <td>none</td>\n",
       "      <td>married</td>\n",
       "      <td>regularly</td>\n",
       "      <td>yes</td>\n",
       "      <td>1.0</td>\n",
       "      <td>school_bus</td>\n",
       "      <td>5 - 10</td>\n",
       "      <td>73</td>\n",
       "      <td>84</td>\n",
       "      <td>79</td>\n",
       "    </tr>\n",
       "    <tr>\n",
       "      <th>6</th>\n",
       "      <td>6</td>\n",
       "      <td>female</td>\n",
       "      <td>group B</td>\n",
       "      <td>some college</td>\n",
       "      <td>standard</td>\n",
       "      <td>completed</td>\n",
       "      <td>widowed</td>\n",
       "      <td>never</td>\n",
       "      <td>no</td>\n",
       "      <td>1.0</td>\n",
       "      <td>private</td>\n",
       "      <td>5 - 10</td>\n",
       "      <td>85</td>\n",
       "      <td>93</td>\n",
       "      <td>89</td>\n",
       "    </tr>\n",
       "    <tr>\n",
       "      <th>7</th>\n",
       "      <td>7</td>\n",
       "      <td>male</td>\n",
       "      <td>group B</td>\n",
       "      <td>some college</td>\n",
       "      <td>free/reduced</td>\n",
       "      <td>none</td>\n",
       "      <td>married</td>\n",
       "      <td>sometimes</td>\n",
       "      <td>yes</td>\n",
       "      <td>1.0</td>\n",
       "      <td>private</td>\n",
       "      <td>&gt; 10</td>\n",
       "      <td>41</td>\n",
       "      <td>43</td>\n",
       "      <td>39</td>\n",
       "    </tr>\n",
       "    <tr>\n",
       "      <th>...</th>\n",
       "      <td>...</td>\n",
       "      <td>...</td>\n",
       "      <td>...</td>\n",
       "      <td>...</td>\n",
       "      <td>...</td>\n",
       "      <td>...</td>\n",
       "      <td>...</td>\n",
       "      <td>...</td>\n",
       "      <td>...</td>\n",
       "      <td>...</td>\n",
       "      <td>...</td>\n",
       "      <td>...</td>\n",
       "      <td>...</td>\n",
       "      <td>...</td>\n",
       "      <td>...</td>\n",
       "    </tr>\n",
       "    <tr>\n",
       "      <th>30635</th>\n",
       "      <td>794</td>\n",
       "      <td>male</td>\n",
       "      <td>group C</td>\n",
       "      <td>some college</td>\n",
       "      <td>standard</td>\n",
       "      <td>none</td>\n",
       "      <td>married</td>\n",
       "      <td>regularly</td>\n",
       "      <td>no</td>\n",
       "      <td>2.0</td>\n",
       "      <td>school_bus</td>\n",
       "      <td>5 - 10</td>\n",
       "      <td>58</td>\n",
       "      <td>53</td>\n",
       "      <td>49</td>\n",
       "    </tr>\n",
       "    <tr>\n",
       "      <th>30636</th>\n",
       "      <td>816</td>\n",
       "      <td>female</td>\n",
       "      <td>group D</td>\n",
       "      <td>high school</td>\n",
       "      <td>standard</td>\n",
       "      <td>none</td>\n",
       "      <td>single</td>\n",
       "      <td>sometimes</td>\n",
       "      <td>no</td>\n",
       "      <td>2.0</td>\n",
       "      <td>school_bus</td>\n",
       "      <td>5 - 10</td>\n",
       "      <td>59</td>\n",
       "      <td>61</td>\n",
       "      <td>65</td>\n",
       "    </tr>\n",
       "    <tr>\n",
       "      <th>30637</th>\n",
       "      <td>890</td>\n",
       "      <td>male</td>\n",
       "      <td>group E</td>\n",
       "      <td>high school</td>\n",
       "      <td>standard</td>\n",
       "      <td>none</td>\n",
       "      <td>single</td>\n",
       "      <td>regularly</td>\n",
       "      <td>no</td>\n",
       "      <td>1.0</td>\n",
       "      <td>private</td>\n",
       "      <td>5 - 10</td>\n",
       "      <td>58</td>\n",
       "      <td>53</td>\n",
       "      <td>51</td>\n",
       "    </tr>\n",
       "    <tr>\n",
       "      <th>30639</th>\n",
       "      <td>934</td>\n",
       "      <td>female</td>\n",
       "      <td>group D</td>\n",
       "      <td>associate's degree</td>\n",
       "      <td>standard</td>\n",
       "      <td>completed</td>\n",
       "      <td>married</td>\n",
       "      <td>regularly</td>\n",
       "      <td>no</td>\n",
       "      <td>3.0</td>\n",
       "      <td>school_bus</td>\n",
       "      <td>5 - 10</td>\n",
       "      <td>82</td>\n",
       "      <td>90</td>\n",
       "      <td>93</td>\n",
       "    </tr>\n",
       "    <tr>\n",
       "      <th>30640</th>\n",
       "      <td>960</td>\n",
       "      <td>male</td>\n",
       "      <td>group B</td>\n",
       "      <td>some college</td>\n",
       "      <td>standard</td>\n",
       "      <td>none</td>\n",
       "      <td>married</td>\n",
       "      <td>never</td>\n",
       "      <td>no</td>\n",
       "      <td>1.0</td>\n",
       "      <td>school_bus</td>\n",
       "      <td>5 - 10</td>\n",
       "      <td>64</td>\n",
       "      <td>60</td>\n",
       "      <td>58</td>\n",
       "    </tr>\n",
       "  </tbody>\n",
       "</table>\n",
       "<p>19243 rows × 15 columns</p>\n",
       "</div>"
      ],
      "text/plain": [
       "       Unnamed: 0  Gender EthnicGroup          ParentEduc     LunchType  \\\n",
       "2               2  female     group B     master's degree      standard   \n",
       "4               4    male     group C        some college      standard   \n",
       "5               5  female     group B  associate's degree      standard   \n",
       "6               6  female     group B        some college      standard   \n",
       "7               7    male     group B        some college  free/reduced   \n",
       "...           ...     ...         ...                 ...           ...   \n",
       "30635         794    male     group C        some college      standard   \n",
       "30636         816  female     group D         high school      standard   \n",
       "30637         890    male     group E         high school      standard   \n",
       "30639         934  female     group D  associate's degree      standard   \n",
       "30640         960    male     group B        some college      standard   \n",
       "\n",
       "        TestPrep ParentMaritalStatus PracticeSport IsFirstChild  NrSiblings  \\\n",
       "2           none              single     sometimes          yes         4.0   \n",
       "4           none             married     sometimes          yes         0.0   \n",
       "5           none             married     regularly          yes         1.0   \n",
       "6      completed             widowed         never           no         1.0   \n",
       "7           none             married     sometimes          yes         1.0   \n",
       "...          ...                 ...           ...          ...         ...   \n",
       "30635       none             married     regularly           no         2.0   \n",
       "30636       none              single     sometimes           no         2.0   \n",
       "30637       none              single     regularly           no         1.0   \n",
       "30639  completed             married     regularly           no         3.0   \n",
       "30640       none             married         never           no         1.0   \n",
       "\n",
       "      TransportMeans WklyStudyHours  MathScore  ReadingScore  WritingScore  \n",
       "2         school_bus            < 5         87            93            91  \n",
       "4         school_bus         5 - 10         76            78            75  \n",
       "5         school_bus         5 - 10         73            84            79  \n",
       "6            private         5 - 10         85            93            89  \n",
       "7            private           > 10         41            43            39  \n",
       "...              ...            ...        ...           ...           ...  \n",
       "30635     school_bus         5 - 10         58            53            49  \n",
       "30636     school_bus         5 - 10         59            61            65  \n",
       "30637        private         5 - 10         58            53            51  \n",
       "30639     school_bus         5 - 10         82            90            93  \n",
       "30640     school_bus         5 - 10         64            60            58  \n",
       "\n",
       "[19243 rows x 15 columns]"
      ]
     },
     "execution_count": 1,
     "metadata": {},
     "output_type": "execute_result"
    }
   ],
   "source": [
    "import pandas as pd\n",
    "import numpy as np\n",
    "import matplotlib as mpl\n",
    "import matplotlib.pyplot as plt\n",
    "\n",
    "df = pd.read_csv('./datasets/Expanded_data_with_more_features.csv')\n",
    "df = df.dropna()\n",
    "df"
   ]
  },
  {
   "cell_type": "markdown",
   "id": "d8eaef22",
   "metadata": {},
   "source": [
    "# 1. Скільки студентів і студенток у наборі даних?"
   ]
  },
  {
   "cell_type": "code",
   "execution_count": 2,
   "id": "4f16b017",
   "metadata": {},
   "outputs": [
    {
     "name": "stdout",
     "output_type": "stream",
     "text": [
      "Кількість чоловіків у наборі даних: 9468\n",
      "Кількість жінок у наборі даних: 9775\n"
     ]
    }
   ],
   "source": [
    "count_male = df[df['Gender'] == 'male'].shape[0]\n",
    "count_female = df[df['Gender'] == 'female'].shape[0]\n",
    "\n",
    "print(\"Кількість чоловіків у наборі даних:\", count_male)\n",
    "print(\"Кількість жінок у наборі даних:\", count_female)"
   ]
  },
  {
   "cell_type": "markdown",
   "id": "735a67c4",
   "metadata": {},
   "source": [
    "# 2. Який відсоток студентів чоловічої статі в наборі даних?"
   ]
  },
  {
   "cell_type": "code",
   "execution_count": 3,
   "id": "1d584698",
   "metadata": {},
   "outputs": [
    {
     "name": "stdout",
     "output_type": "stream",
     "text": [
      "Відсоток студентів чоловічої статі: 49.202307332536506%\n"
     ]
    }
   ],
   "source": [
    "male_count = len(df[df['Gender'] == 'male'])\n",
    "\n",
    "total_count = len(df)\n",
    "\n",
    "male_percentage = (male_count / total_count) * 100\n",
    "\n",
    "print(f\"Відсоток студентів чоловічої статі: {male_percentage}%\")"
   ]
  },
  {
   "cell_type": "markdown",
   "id": "c4c14a46",
   "metadata": {},
   "source": [
    "# 3. Який відсоток студенток у наборі даних?"
   ]
  },
  {
   "cell_type": "code",
   "execution_count": 4,
   "id": "363e4e05",
   "metadata": {},
   "outputs": [
    {
     "name": "stdout",
     "output_type": "stream",
     "text": [
      "Відсоток студентів жіночої статі: 50.79769266746349%\n"
     ]
    }
   ],
   "source": [
    "female_count = len(df[df['Gender'] == 'female'])\n",
    "\n",
    "total_count = len(df)\n",
    "\n",
    "female_percentage = (female_count / total_count) * 100\n",
    "\n",
    "print(f\"Відсоток студентів жіночої статі: {female_percentage}%\")"
   ]
  },
  {
   "cell_type": "markdown",
   "id": "046db786",
   "metadata": {},
   "source": [
    "# 4. Яка етнічна група має найвищий середній бал з математики?"
   ]
  },
  {
   "cell_type": "code",
   "execution_count": 5,
   "id": "2f5212ac",
   "metadata": {},
   "outputs": [
    {
     "name": "stdout",
     "output_type": "stream",
     "text": [
      "Етнічна група з найвищим середнім балом з математики: group E\n",
      "Найвищий середній бал з математики: 75.27433628318585\n"
     ]
    }
   ],
   "source": [
    "average_math_score_by_ethnicity = df.groupby('EthnicGroup')['MathScore'].mean()\n",
    "\n",
    "ethnicity_with_highest_average_math_score = average_math_score_by_ethnicity.idxmax()\n",
    "highest_average_math_score = average_math_score_by_ethnicity.max()\n",
    "\n",
    "print(\"Етнічна група з найвищим середнім балом з математики:\", ethnicity_with_highest_average_math_score)\n",
    "print(\"Найвищий середній бал з математики:\", highest_average_math_score)"
   ]
  },
  {
   "cell_type": "markdown",
   "id": "27dd9b38",
   "metadata": {},
   "source": [
    "# 5. Яка етнічна група має найвищий середній бал читання?"
   ]
  },
  {
   "cell_type": "code",
   "execution_count": 6,
   "id": "f6b5565b",
   "metadata": {},
   "outputs": [
    {
     "name": "stdout",
     "output_type": "stream",
     "text": [
      "Етнічна група з найвищим середнім балом з читання: group E\n",
      "Найвищий середній бал з читання: 74.43510324483776\n"
     ]
    }
   ],
   "source": [
    "average_math_score_by_ethnicity = df.groupby('EthnicGroup')['ReadingScore'].mean()\n",
    "\n",
    "ethnicity_with_highest_average_math_score = average_math_score_by_ethnicity.idxmax()\n",
    "highest_average_math_score = average_math_score_by_ethnicity.max()\n",
    "\n",
    "print(\"Етнічна група з найвищим середнім балом з читання:\", ethnicity_with_highest_average_math_score)\n",
    "print(\"Найвищий середній бал з читання:\", highest_average_math_score)"
   ]
  },
  {
   "cell_type": "markdown",
   "id": "bc9e872f",
   "metadata": {},
   "source": [
    "# 6. Яка етнічна група має найвищий середній бал з письма?"
   ]
  },
  {
   "cell_type": "code",
   "execution_count": 7,
   "id": "3aa12e91",
   "metadata": {},
   "outputs": [
    {
     "name": "stdout",
     "output_type": "stream",
     "text": [
      "Етнічна група з найвищим середнім балом з письма: group E\n",
      "Найвищий середній бал з письма: 72.88606194690266\n"
     ]
    }
   ],
   "source": [
    "average_math_score_by_ethnicity = df.groupby('EthnicGroup')['WritingScore'].mean()\n",
    "\n",
    "ethnicity_with_highest_average_math_score = average_math_score_by_ethnicity.idxmax()\n",
    "highest_average_math_score = average_math_score_by_ethnicity.max()\n",
    "\n",
    "print(\"Етнічна група з найвищим середнім балом з письма:\", ethnicity_with_highest_average_math_score)\n",
    "print(\"Найвищий середній бал з письма:\", highest_average_math_score)"
   ]
  },
  {
   "cell_type": "markdown",
   "id": "1e16db8e",
   "metadata": {},
   "source": [
    "# 7. Який середній бал з математики для студентів, які закінчили курс підготовки до тесту?"
   ]
  },
  {
   "cell_type": "code",
   "execution_count": 8,
   "id": "b9ebcdbc",
   "metadata": {},
   "outputs": [
    {
     "name": "stdout",
     "output_type": "stream",
     "text": [
      "Середній бал з математики для студентів, які закінчили курс підготовки до тесту: 69.64963942307692\n"
     ]
    }
   ],
   "source": [
    "\n",
    "# Вибір рядків, де курс підготовки до тесту завершено і обчислення середнього балу з математики\n",
    "average_score_test_prep_completed = df[df['TestPrep'] == 'completed']['MathScore'].mean()\n",
    "\n",
    "print(\"Середній бал з математики для студентів, які закінчили курс підготовки до тесту:\", average_score_test_prep_completed)"
   ]
  },
  {
   "cell_type": "markdown",
   "id": "0707d92d",
   "metadata": {},
   "source": [
    "# 8. Який середній бал з читання для студентів, які пройшли курс підготовки до тесту?"
   ]
  },
  {
   "cell_type": "code",
   "execution_count": 9,
   "id": "e485ae10",
   "metadata": {},
   "outputs": [
    {
     "name": "stdout",
     "output_type": "stream",
     "text": [
      "Середній бал з читання для студентів, які закінчили курс підготовки до тесту: 73.85982572115384\n"
     ]
    }
   ],
   "source": [
    "\n",
    "average_score_test_prep_completed = df[df['TestPrep'] == 'completed']['ReadingScore'].mean()\n",
    "\n",
    "print(\"Середній бал з читання для студентів, які закінчили курс підготовки до тесту:\", average_score_test_prep_completed)"
   ]
  },
  {
   "cell_type": "markdown",
   "id": "bcb21c41",
   "metadata": {},
   "source": [
    "# 9. Який середній бал для студентів, які закінчили курс підготовки до тесту?"
   ]
  },
  {
   "cell_type": "code",
   "execution_count": 10,
   "id": "d0c8053c",
   "metadata": {},
   "outputs": [
    {
     "name": "stdout",
     "output_type": "stream",
     "text": [
      "Середній бал для студентів, які закінчили курс підготовки до тесту: 72.79081530448718\n"
     ]
    }
   ],
   "source": [
    "\n",
    "average_math_score_test_prep_completed = df[df['TestPrep'] == 'completed']['MathScore'].mean()\n",
    "average_reading_score_test_prep_completed = df[df['TestPrep'] == 'completed']['ReadingScore'].mean()\n",
    "average_writing_score_test_prep_completed = df[df['TestPrep'] == 'completed']['WritingScore'].mean()\n",
    "average_score_test_prep_completed = (average_math_score_test_prep_completed + average_reading_score_test_prep_completed + average_writing_score_test_prep_completed)/3\n",
    "\n",
    "print(\"Середній бал для студентів, які закінчили курс підготовки до тесту:\", average_score_test_prep_completed)"
   ]
  },
  {
   "cell_type": "markdown",
   "id": "9cf3b3ea",
   "metadata": {},
   "source": [
    "# 10. Скільки студентів мають одружених батьків?"
   ]
  },
  {
   "cell_type": "code",
   "execution_count": 11,
   "id": "d054ffb4",
   "metadata": {},
   "outputs": [
    {
     "name": "stdout",
     "output_type": "stream",
     "text": [
      "Кількість студентів, що мають одружених батьків: 11009\n"
     ]
    }
   ],
   "source": [
    "#10\n",
    "married_parents = len(df[df['ParentMaritalStatus'] == 'married'])\n",
    "print(f\"Кількість студентів, що мають одружених батьків: {married_parents}\")"
   ]
  },
  {
   "cell_type": "markdown",
   "id": "3e938787",
   "metadata": {},
   "source": [
    "# 11. Скільки студентів мають батьків-одинаків?"
   ]
  },
  {
   "cell_type": "code",
   "execution_count": 12,
   "id": "0db95f09",
   "metadata": {},
   "outputs": [
    {
     "name": "stdout",
     "output_type": "stream",
     "text": [
      "Кількість студентів, що мають батьків-одинаків: 4608\n"
     ]
    }
   ],
   "source": [
    "#11\n",
    "single_parents = len(df[df['ParentMaritalStatus'] == 'single'])\n",
    "print(f\"Кількість студентів, що мають батьків-одинаків: {single_parents}\")"
   ]
  },
  {
   "cell_type": "markdown",
   "id": "2bee2d6d",
   "metadata": {},
   "source": [
    "# 12. Чи студенти, які регулярно займаються спортом, мають вищі середні результати з математики, ніж ті, хто ніколи не       займається спортом?"
   ]
  },
  {
   "cell_type": "code",
   "execution_count": 13,
   "id": "e2c0455f",
   "metadata": {},
   "outputs": [
    {
     "name": "stdout",
     "output_type": "stream",
     "text": [
      "Чи студенти, які регулярно займаються спортом, мають вищі середні результати з математики, ніж ті, хто ніколи не займається спортом?: True\n"
     ]
    }
   ],
   "source": [
    "#12\n",
    "sport_regulary = df[df['PracticeSport'] == 'regularly']\n",
    "sport_never = df[df['PracticeSport'] == 'never']\n",
    "\n",
    "average_math_score_sport_regulary = sport_regulary['MathScore'].mean()\n",
    "average_math_score_sport_never = sport_never['MathScore'].mean()\n",
    "\n",
    "print(f\"Чи студенти, які регулярно займаються спортом, мають вищі середні результати з математики, ніж ті, хто ніколи не займається спортом?: {average_math_score_sport_regulary > average_math_score_sport_never}\")"
   ]
  },
  {
   "cell_type": "markdown",
   "id": "c50bdf20",
   "metadata": {},
   "source": [
    "# 13. Чи студенти, які регулярно займаються спортом, мають вищі середні результати читання, ніж ті, хто ніколи не займається спортом?"
   ]
  },
  {
   "cell_type": "code",
   "execution_count": 14,
   "id": "6f70d43d",
   "metadata": {},
   "outputs": [
    {
     "name": "stdout",
     "output_type": "stream",
     "text": [
      "Чи студенти, які регулярно займаються спортом, мають вищі середні результати з читання, ніж ті, хто ніколи не займається спортом?: True\n"
     ]
    }
   ],
   "source": [
    "#13\n",
    "sport_regulary = df[df['PracticeSport'] == 'regularly']\n",
    "sport_never = df[df['PracticeSport'] == 'never']\n",
    "\n",
    "average_read_score_sport_regulary = sport_regulary['ReadingScore'].mean()\n",
    "average_read_score_sport_never = sport_never['ReadingScore'].mean()\n",
    "\n",
    "print(f\"Чи студенти, які регулярно займаються спортом, мають вищі середні результати з читання, ніж ті, хто ніколи не займається спортом?: {average_read_score_sport_regulary > average_read_score_sport_never}\")"
   ]
  },
  {
   "cell_type": "markdown",
   "id": "322a44af",
   "metadata": {},
   "source": [
    "# 14. Скільки учнів користується шкільним автобусом, щоб дістатися до школи?"
   ]
  },
  {
   "cell_type": "code",
   "execution_count": 15,
   "id": "c5a1fd72",
   "metadata": {},
   "outputs": [
    {
     "name": "stdout",
     "output_type": "stream",
     "text": [
      "Кількість учнів, що користується шкільним автобусом, щоб дістатися до школи: 11280\n"
     ]
    }
   ],
   "source": [
    "#14\n",
    "bus = len(df[df['TransportMeans'] == 'school_bus'])\n",
    "print(f\"Кількість учнів, що користується шкільним автобусом, щоб дістатися до школи: {bus}\")"
   ]
  },
  {
   "cell_type": "markdown",
   "id": "1e3d1198",
   "metadata": {},
   "source": [
    "# 15. Скільки учнів користується приватним транспортом, щоб дістатися до школи?"
   ]
  },
  {
   "cell_type": "code",
   "execution_count": 16,
   "id": "1267039e",
   "metadata": {},
   "outputs": [
    {
     "name": "stdout",
     "output_type": "stream",
     "text": [
      "Кількість учнів, що користується приватним транспортом, щоб дістатися до школи: 7963\n"
     ]
    }
   ],
   "source": [
    "#15\n",
    "private = len(df[df['TransportMeans'] == 'private'])\n",
    "print(f\"Кількість учнів, що користується приватним транспортом, щоб дістатися до школи: {private}\")"
   ]
  },
  {
   "cell_type": "markdown",
   "id": "a451be1a",
   "metadata": {},
   "source": [
    "# Передбачте, чи завершив студент курс підготовки до іспиту, на основі його демографічних та академічних даних.\n",
    "   Вхідні дані:\n",
    "Gender, EthnicGroup, ParentEduc, LunchType, ParentMaritalStatus, PracticeSport, IsFirstChild, NrSiblings,       TransportMeans, WklyStudyHours, MathScore, ReadingScore, WritingScore\n",
    "   Результат: TestPrep"
   ]
  },
  {
   "cell_type": "code",
   "execution_count": 22,
   "id": "756f8cfc",
   "metadata": {},
   "outputs": [
    {
     "name": "stdout",
     "output_type": "stream",
     "text": [
      "Найкращі параметри: {'max_depth': 10, 'min_samples_leaf': 4, 'min_samples_split': 10}\n",
      "Найкраща точність на навчальному наборі: 0.7024\n",
      "Точність на тестовому наборі: 0.7046900777751591\n"
     ]
    }
   ],
   "source": [
    "from sklearn.model_selection import GridSearchCV\n",
    "from sklearn.tree import DecisionTreeClassifier\n",
    "from sklearn.metrics import accuracy_score\n",
    "\n",
    "\n",
    "X = df[['Gender', 'EthnicGroup', 'ParentEduc', 'LunchType', 'ParentMaritalStatus', 'PracticeSport', 'IsFirstChild', 'NrSiblings', 'TransportMeans', 'WklyStudyHours', 'MathScore', 'ReadingScore', 'WritingScore']]\n",
    "y = df['TestPrep']\n",
    "\n",
    "X = pd.get_dummies(X)\n",
    "X_train, X_test, y_train, y_test = X[:15000], X[15000:], y[:15000], y[15000:]\n",
    "\n",
    "model = DecisionTreeClassifier(random_state=42)\n",
    "\n",
    "param_grid = {\n",
    "    'max_depth': [None, 10, 20],\n",
    "    'min_samples_split': [2, 5, 10],\n",
    "    'min_samples_leaf': [1, 2, 4]\n",
    "}\n",
    "\n",
    "grid_search = GridSearchCV(model, param_grid, cv=5)\n",
    "grid_search.fit(X_train, y_train)\n",
    "\n",
    "best_params = grid_search.best_params_\n",
    "print(\"Найкращі параметри:\", best_params)\n",
    "\n",
    "best_score = grid_search.best_score_\n",
    "print(\"Найкраща точність на навчальному наборі:\", best_score)\n",
    "\n",
    "best_model = grid_search.best_estimator_\n",
    "predictions = best_model.predict(X_test)\n",
    "test_accuracy = accuracy_score(y_test, predictions)\n",
    "print(\"Точність на тестовому наборі:\", test_accuracy)"
   ]
  },
  {
   "cell_type": "code",
   "execution_count": null,
   "id": "f133cf98",
   "metadata": {},
   "outputs": [],
   "source": []
  }
 ],
 "metadata": {
  "kernelspec": {
   "display_name": "Python 3 (ipykernel)",
   "language": "python",
   "name": "python3"
  },
  "language_info": {
   "codemirror_mode": {
    "name": "ipython",
    "version": 3
   },
   "file_extension": ".py",
   "mimetype": "text/x-python",
   "name": "python",
   "nbconvert_exporter": "python",
   "pygments_lexer": "ipython3",
   "version": "3.11.5"
  }
 },
 "nbformat": 4,
 "nbformat_minor": 5
}
