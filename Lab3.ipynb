{
 "cells": [
  {
   "cell_type": "markdown",
   "id": "c9d96979",
   "metadata": {},
   "source": [
    "## 1. Завантажте набір даних про дитячі імена США з веб-сайту kaggle.com (https://www.kaggle.com/kaggle/us-baby-names?select=NationalNames.csv)\n",
    "\n",
    "## 2. Виконайте вправи по варіантах.\n",
    "## Варіант 5"
   ]
  },
  {
   "cell_type": "code",
   "execution_count": 1,
   "id": "072ed9e3",
   "metadata": {},
   "outputs": [],
   "source": [
    "import numpy as np\n",
    "import pandas as pd"
   ]
  },
  {
   "cell_type": "code",
   "execution_count": 2,
   "id": "8aa4ee1c",
   "metadata": {},
   "outputs": [],
   "source": [
    "csv_file_path = 'D:\\\\Anaconda\\\\anacondaFiles\\\\NationalNames.csv'\n",
    "try:\n",
    "    df = pd.read_csv(csv_file_path)    \n",
    "except FileNotFoundError:\n",
    "    print(f\"File not found: {csv_file_path}\")"
   ]
  },
  {
   "cell_type": "markdown",
   "id": "5d0c32f0",
   "metadata": {},
   "source": [
    "## 2. Вивести останні 8 рядків набору даних."
   ]
  },
  {
   "cell_type": "code",
   "execution_count": 3,
   "id": "90f97edd",
   "metadata": {
    "scrolled": false
   },
   "outputs": [
    {
     "data": {
      "text/html": [
       "<div>\n",
       "<style scoped>\n",
       "    .dataframe tbody tr th:only-of-type {\n",
       "        vertical-align: middle;\n",
       "    }\n",
       "\n",
       "    .dataframe tbody tr th {\n",
       "        vertical-align: top;\n",
       "    }\n",
       "\n",
       "    .dataframe thead th {\n",
       "        text-align: right;\n",
       "    }\n",
       "</style>\n",
       "<table border=\"1\" class=\"dataframe\">\n",
       "  <thead>\n",
       "    <tr style=\"text-align: right;\">\n",
       "      <th></th>\n",
       "      <th>Id</th>\n",
       "      <th>Name</th>\n",
       "      <th>Year</th>\n",
       "      <th>Gender</th>\n",
       "      <th>Count</th>\n",
       "    </tr>\n",
       "  </thead>\n",
       "  <tbody>\n",
       "    <tr>\n",
       "      <th>1825425</th>\n",
       "      <td>1825426</td>\n",
       "      <td>Zo</td>\n",
       "      <td>2014</td>\n",
       "      <td>M</td>\n",
       "      <td>5</td>\n",
       "    </tr>\n",
       "    <tr>\n",
       "      <th>1825426</th>\n",
       "      <td>1825427</td>\n",
       "      <td>Zyeir</td>\n",
       "      <td>2014</td>\n",
       "      <td>M</td>\n",
       "      <td>5</td>\n",
       "    </tr>\n",
       "    <tr>\n",
       "      <th>1825427</th>\n",
       "      <td>1825428</td>\n",
       "      <td>Zyel</td>\n",
       "      <td>2014</td>\n",
       "      <td>M</td>\n",
       "      <td>5</td>\n",
       "    </tr>\n",
       "    <tr>\n",
       "      <th>1825428</th>\n",
       "      <td>1825429</td>\n",
       "      <td>Zykeem</td>\n",
       "      <td>2014</td>\n",
       "      <td>M</td>\n",
       "      <td>5</td>\n",
       "    </tr>\n",
       "    <tr>\n",
       "      <th>1825429</th>\n",
       "      <td>1825430</td>\n",
       "      <td>Zymeer</td>\n",
       "      <td>2014</td>\n",
       "      <td>M</td>\n",
       "      <td>5</td>\n",
       "    </tr>\n",
       "    <tr>\n",
       "      <th>1825430</th>\n",
       "      <td>1825431</td>\n",
       "      <td>Zymiere</td>\n",
       "      <td>2014</td>\n",
       "      <td>M</td>\n",
       "      <td>5</td>\n",
       "    </tr>\n",
       "    <tr>\n",
       "      <th>1825431</th>\n",
       "      <td>1825432</td>\n",
       "      <td>Zyran</td>\n",
       "      <td>2014</td>\n",
       "      <td>M</td>\n",
       "      <td>5</td>\n",
       "    </tr>\n",
       "    <tr>\n",
       "      <th>1825432</th>\n",
       "      <td>1825433</td>\n",
       "      <td>Zyrin</td>\n",
       "      <td>2014</td>\n",
       "      <td>M</td>\n",
       "      <td>5</td>\n",
       "    </tr>\n",
       "  </tbody>\n",
       "</table>\n",
       "</div>"
      ],
      "text/plain": [
       "              Id     Name  Year Gender  Count\n",
       "1825425  1825426       Zo  2014      M      5\n",
       "1825426  1825427    Zyeir  2014      M      5\n",
       "1825427  1825428     Zyel  2014      M      5\n",
       "1825428  1825429   Zykeem  2014      M      5\n",
       "1825429  1825430   Zymeer  2014      M      5\n",
       "1825430  1825431  Zymiere  2014      M      5\n",
       "1825431  1825432    Zyran  2014      M      5\n",
       "1825432  1825433    Zyrin  2014      M      5"
      ]
     },
     "metadata": {},
     "output_type": "display_data"
    }
   ],
   "source": [
    "display(df.tail(8))"
   ]
  },
  {
   "cell_type": "markdown",
   "id": "9ae41cf4",
   "metadata": {},
   "source": [
    "## 4. Отримайте загальну інформацію про дані у наборі даних."
   ]
  },
  {
   "cell_type": "code",
   "execution_count": 4,
   "id": "227b692d",
   "metadata": {
    "scrolled": true
   },
   "outputs": [
    {
     "data": {
      "text/html": [
       "<div>\n",
       "<style scoped>\n",
       "    .dataframe tbody tr th:only-of-type {\n",
       "        vertical-align: middle;\n",
       "    }\n",
       "\n",
       "    .dataframe tbody tr th {\n",
       "        vertical-align: top;\n",
       "    }\n",
       "\n",
       "    .dataframe thead th {\n",
       "        text-align: right;\n",
       "    }\n",
       "</style>\n",
       "<table border=\"1\" class=\"dataframe\">\n",
       "  <thead>\n",
       "    <tr style=\"text-align: right;\">\n",
       "      <th></th>\n",
       "      <th>Id</th>\n",
       "      <th>Year</th>\n",
       "      <th>Count</th>\n",
       "    </tr>\n",
       "  </thead>\n",
       "  <tbody>\n",
       "    <tr>\n",
       "      <th>count</th>\n",
       "      <td>1.825433e+06</td>\n",
       "      <td>1.825433e+06</td>\n",
       "      <td>1.825433e+06</td>\n",
       "    </tr>\n",
       "    <tr>\n",
       "      <th>mean</th>\n",
       "      <td>9.127170e+05</td>\n",
       "      <td>1.972620e+03</td>\n",
       "      <td>1.846879e+02</td>\n",
       "    </tr>\n",
       "    <tr>\n",
       "      <th>std</th>\n",
       "      <td>5.269573e+05</td>\n",
       "      <td>3.352891e+01</td>\n",
       "      <td>1.566711e+03</td>\n",
       "    </tr>\n",
       "    <tr>\n",
       "      <th>min</th>\n",
       "      <td>1.000000e+00</td>\n",
       "      <td>1.880000e+03</td>\n",
       "      <td>5.000000e+00</td>\n",
       "    </tr>\n",
       "    <tr>\n",
       "      <th>25%</th>\n",
       "      <td>4.563590e+05</td>\n",
       "      <td>1.949000e+03</td>\n",
       "      <td>7.000000e+00</td>\n",
       "    </tr>\n",
       "    <tr>\n",
       "      <th>50%</th>\n",
       "      <td>9.127170e+05</td>\n",
       "      <td>1.982000e+03</td>\n",
       "      <td>1.200000e+01</td>\n",
       "    </tr>\n",
       "    <tr>\n",
       "      <th>75%</th>\n",
       "      <td>1.369075e+06</td>\n",
       "      <td>2.001000e+03</td>\n",
       "      <td>3.200000e+01</td>\n",
       "    </tr>\n",
       "    <tr>\n",
       "      <th>max</th>\n",
       "      <td>1.825433e+06</td>\n",
       "      <td>2.014000e+03</td>\n",
       "      <td>9.968000e+04</td>\n",
       "    </tr>\n",
       "  </tbody>\n",
       "</table>\n",
       "</div>"
      ],
      "text/plain": [
       "                 Id          Year         Count\n",
       "count  1.825433e+06  1.825433e+06  1.825433e+06\n",
       "mean   9.127170e+05  1.972620e+03  1.846879e+02\n",
       "std    5.269573e+05  3.352891e+01  1.566711e+03\n",
       "min    1.000000e+00  1.880000e+03  5.000000e+00\n",
       "25%    4.563590e+05  1.949000e+03  7.000000e+00\n",
       "50%    9.127170e+05  1.982000e+03  1.200000e+01\n",
       "75%    1.369075e+06  2.001000e+03  3.200000e+01\n",
       "max    1.825433e+06  2.014000e+03  9.968000e+04"
      ]
     },
     "metadata": {},
     "output_type": "display_data"
    }
   ],
   "source": [
    "display(df.describe())"
   ]
  },
  {
   "cell_type": "markdown",
   "id": "f6184d11",
   "metadata": {},
   "source": [
    "## 6. Обчисліть кількість унікальних жіночих та чоловічих імен у цілому наборі даних"
   ]
  },
  {
   "cell_type": "code",
   "execution_count": 5,
   "id": "19b928db",
   "metadata": {},
   "outputs": [
    {
     "name": "stdout",
     "output_type": "stream",
     "text": [
      "  Gender   Name\n",
      "0      F  64911\n",
      "1      M  39199\n"
     ]
    }
   ],
   "source": [
    "unique_names = df['Name'].unique()\n",
    "male_names_count = df[df['Gender'] == 'M']['Name'].nunique()\n",
    "female_names_count = df[df['Gender'] == 'F']['Name'].nunique()\n",
    "\n",
    "result = pd.DataFrame({\n",
    "    'Gender': ['F', 'M'],\n",
    "    'Name': [female_names_count, male_names_count]\n",
    "})\n",
    "\n",
    "print(result)"
   ]
  },
  {
   "cell_type": "markdown",
   "id": "cea42786",
   "metadata": {},
   "source": [
    "## 7. Знайдіть 5 найпопулярніших чоловічих імен у 2010 році"
   ]
  },
  {
   "cell_type": "code",
   "execution_count": 6,
   "id": "0d021acb",
   "metadata": {},
   "outputs": [
    {
     "name": "stdout",
     "output_type": "stream",
     "text": [
      "              Id     Name  Year Gender  Count\n",
      "1677392  1677393    Jacob  2010      M  22082\n",
      "1677393  1677394    Ethan  2010      M  17985\n",
      "1677394  1677395  Michael  2010      M  17308\n",
      "1677395  1677396   Jayden  2010      M  17152\n",
      "1677396  1677397  William  2010      M  17030\n"
     ]
    }
   ],
   "source": [
    "df_2010_male = df[(df['Year'] == 2010) & (df['Gender'] == 'M')]\n",
    "\n",
    "sorted_df = df_2010_male.sort_values(by='Count', ascending=False)\n",
    "\n",
    "top_5_male_names = sorted_df.head(5)[['Id', 'Name','Year','Gender', 'Count']]\n",
    "\n",
    "\n",
    "print(top_5_male_names)"
   ]
  },
  {
   "cell_type": "markdown",
   "id": "ab399fd5",
   "metadata": {},
   "source": [
    "## 9. Підрахуйте кількість записів, для яких Count - мінімальне у наборі."
   ]
  },
  {
   "cell_type": "code",
   "execution_count": 7,
   "id": "e4759127",
   "metadata": {},
   "outputs": [
    {
     "name": "stdout",
     "output_type": "stream",
     "text": [
      "254615\n"
     ]
    }
   ],
   "source": [
    "min_count = df['Count'].min()\n",
    "\n",
    "min_count_records = df[df['Count'] == min_count]\n",
    "\n",
    "count_min_records = min_count_records.shape[0]\n",
    "print(count_min_records)"
   ]
  },
  {
   "cell_type": "markdown",
   "id": "bbe30bd9",
   "metadata": {},
   "source": [
    "## 10. Підрахуйте кількість унікальних імен у кожному році"
   ]
  },
  {
   "cell_type": "code",
   "execution_count": 8,
   "id": "aef95623",
   "metadata": {
    "scrolled": true
   },
   "outputs": [
    {
     "name": "stdout",
     "output_type": "stream",
     "text": [
      "Year\n",
      "1880     1889\n",
      "1881     1830\n",
      "1882     2012\n",
      "1883     1962\n",
      "1884     2158\n",
      "        ...  \n",
      "2010    31603\n",
      "2011    31418\n",
      "2012    31236\n",
      "2013    30774\n",
      "2014    30579\n",
      "Name: Name, Length: 135, dtype: int64\n"
     ]
    }
   ],
   "source": [
    "unique_names_by_year = df.groupby('Year')['Name'].nunique()\n",
    "\n",
    "print(unique_names_by_year)"
   ]
  },
  {
   "cell_type": "markdown",
   "id": "d22776b4",
   "metadata": {},
   "source": [
    "## 15. Знайдіть загальну кількість народжень за рік."
   ]
  },
  {
   "cell_type": "code",
   "execution_count": 9,
   "id": "8329668f",
   "metadata": {
    "scrolled": true
   },
   "outputs": [
    {
     "name": "stdout",
     "output_type": "stream",
     "text": [
      "Year\n",
      "1880     201484\n",
      "1881     192699\n",
      "1882     221538\n",
      "1883     216950\n",
      "1884     243467\n",
      "         ...   \n",
      "2010    3686589\n",
      "2011    3646730\n",
      "2012    3643336\n",
      "2013    3626802\n",
      "2014    3670151\n",
      "Name: Count, Length: 135, dtype: int64\n"
     ]
    }
   ],
   "source": [
    "births_by_year = df.groupby('Year')['Count'].sum()\n",
    "\n",
    "print(births_by_year)"
   ]
  },
  {
   "cell_type": "markdown",
   "id": "716732d7",
   "metadata": {},
   "source": [
    "## 16. Знайдіть рік, коли народилося найбільше дітей"
   ]
  },
  {
   "cell_type": "code",
   "execution_count": 10,
   "id": "30c4f93f",
   "metadata": {},
   "outputs": [
    {
     "name": "stdout",
     "output_type": "stream",
     "text": [
      "Рік з найбільшою кількістю народжень: 1957\n"
     ]
    }
   ],
   "source": [
    "max_births_year = births_by_year.idxmax()\n",
    "\n",
    "print(\"Рік з найбільшою кількістю народжень:\", max_births_year)"
   ]
  },
  {
   "cell_type": "markdown",
   "id": "27f5d1db",
   "metadata": {},
   "source": [
    "## 17. Знайдіть кількість дівчаток та хлопчиків, які народились кожного року"
   ]
  },
  {
   "cell_type": "code",
   "execution_count": 11,
   "id": "f220d405",
   "metadata": {},
   "outputs": [
    {
     "name": "stdout",
     "output_type": "stream",
     "text": [
      "Кількість народжень дівчаток та хлопчиків за роками:\n",
      "Gender        F        M\n",
      "Year                    \n",
      "1880      90993   110491\n",
      "1881      91954   100745\n",
      "1882     107850   113688\n",
      "1883     112321   104629\n",
      "1884     129022   114445\n",
      "...         ...      ...\n",
      "2010    1772738  1913851\n",
      "2011    1753500  1893230\n",
      "2012    1753922  1889414\n",
      "2013    1745339  1881463\n",
      "2014    1768775  1901376\n",
      "\n",
      "[135 rows x 2 columns]\n"
     ]
    }
   ],
   "source": [
    "gender_counts_per_year = df.groupby(['Year', 'Gender']).sum()['Count'].unstack()\n",
    "\n",
    "# Виведення результату\n",
    "print(\"Кількість народжень дівчаток та хлопчиків за роками:\")\n",
    "print(gender_counts_per_year)"
   ]
  },
  {
   "cell_type": "markdown",
   "id": "f2dbf5bc",
   "metadata": {},
   "source": [
    "## 18. Підрахуйте кількість років, коли дівчаток народжувалось більше, ніж хлопчиків."
   ]
  },
  {
   "cell_type": "code",
   "execution_count": 12,
   "id": "b8a9bb6a",
   "metadata": {},
   "outputs": [
    {
     "name": "stdout",
     "output_type": "stream",
     "text": [
      "Кількість років, коли дівчаток народжувалось більше, ніж хлопчиків: 54\n"
     ]
    }
   ],
   "source": [
    "gender_counts = df.groupby(['Year', 'Gender']).sum()['Count'].unstack(fill_value=0)\n",
    "\n",
    "years_with_more_girls = (gender_counts['F'] > gender_counts['M']).sum()\n",
    "\n",
    "print(f\"Кількість років, коли дівчаток народжувалось більше, ніж хлопчиків: {years_with_more_girls}\")\n"
   ]
  },
  {
   "cell_type": "markdown",
   "id": "215802f3",
   "metadata": {},
   "source": [
    "## 20. Підрахуйте кількість гендерно-нейтральних імен (однакових для дівчат та хлопців)"
   ]
  },
  {
   "cell_type": "code",
   "execution_count": 13,
   "id": "61637518",
   "metadata": {},
   "outputs": [
    {
     "name": "stdout",
     "output_type": "stream",
     "text": [
      "Кількість гендерно-нейтральних імен: 10221\n"
     ]
    }
   ],
   "source": [
    "female_names = set(df[df['Gender'] == 'F']['Name'])\n",
    "male_names = set(df[df['Gender'] == 'M']['Name'])\n",
    "\n",
    "gender_neutral_names = female_names.intersection(male_names)\n",
    "\n",
    "count_gender_neutral_names = len(gender_neutral_names)\n",
    "\n",
    "print(f\"Кількість гендерно-нейтральних імен: {count_gender_neutral_names}\")"
   ]
  },
  {
   "cell_type": "markdown",
   "id": "70709bda",
   "metadata": {},
   "source": [
    "## 21. Порахуйте, скільки разів хлопчиків називали Barbara"
   ]
  },
  {
   "cell_type": "code",
   "execution_count": 14,
   "id": "5bbac5c9",
   "metadata": {},
   "outputs": [
    {
     "name": "stdout",
     "output_type": "stream",
     "text": [
      "Кількість хлопчиків з ім'ям Barbara: 4139\n"
     ]
    }
   ],
   "source": [
    "barbara_male_count = df[(df['Name'] == 'Barbara') & (df['Gender'] == 'M')]['Count'].sum()\n",
    "\n",
    "print(\"Кількість хлопчиків з ім'ям Barbara:\", barbara_male_count)"
   ]
  },
  {
   "cell_type": "markdown",
   "id": "448b4073",
   "metadata": {},
   "source": [
    "## 22. Підрахуйте скільки років проводилось спостереження"
   ]
  },
  {
   "cell_type": "code",
   "execution_count": 15,
   "id": "39445c68",
   "metadata": {},
   "outputs": [
    {
     "name": "stdout",
     "output_type": "stream",
     "text": [
      "Cпостереження проводилось 135 років\n"
     ]
    }
   ],
   "source": [
    "observation_years = df['Year'].max() - df['Year'].min() + 1\n",
    "\n",
    "print(\"Cпостереження проводилось\", observation_years, \"років\")"
   ]
  },
  {
   "cell_type": "markdown",
   "id": "6d795f0a",
   "metadata": {},
   "source": [
    "## 23. Знати найпопулярніші гендерно-нейтральні імена (ті, що присутні кожного року)"
   ]
  },
  {
   "cell_type": "code",
   "execution_count": 16,
   "id": "b2c02380",
   "metadata": {},
   "outputs": [
    {
     "name": "stdout",
     "output_type": "stream",
     "text": [
      "{'Leslie', 'Robert', 'Tommie', 'John', 'Joseph', 'Jean', 'Lee', 'Francis', 'William', 'Sidney', 'Johnnie', 'Marion', 'James', 'Jessie', 'Jesse', 'Ollie'}\n"
     ]
    }
   ],
   "source": [
    "\n",
    "# Припустимо, що df - це ваш DataFrame з даними\n",
    "# Завантажте або створіть df\n",
    "\n",
    "# Отримуємо унікальні жіночі та чоловічі імена для кожного року\n",
    "neutral_names_by_year = {}\n",
    "\n",
    "for year in df['Year'].unique():\n",
    "    female_names = set(df[(df['Gender'] == 'F') & (df['Year'] == year)]['Name'])\n",
    "    male_names = set(df[(df['Gender'] == 'M') & (df['Year'] == year)]['Name'])\n",
    "    neutral_names_by_year[year] = female_names.intersection(male_names)\n",
    "\n",
    "# Знаходимо гендерно-нейтральні імена, які присутні кожного року\n",
    "common_neutral_names = set.intersection(*neutral_names_by_year.values())\n",
    "\n",
    "# Виводимо найпопулярніші гендерно-нейтральні імена\n",
    "print(common_neutral_names)\n"
   ]
  },
  {
   "cell_type": "markdown",
   "id": "d7136b6a",
   "metadata": {},
   "source": [
    "## 24. Знайти найпопулярніше серед непопулярних імен (непопулярне ім’я, яким називали дітей найбільшу кількість разів )"
   ]
  },
  {
   "cell_type": "code",
   "execution_count": 17,
   "id": "2dbde297",
   "metadata": {},
   "outputs": [
    {
     "name": "stdout",
     "output_type": "stream",
     "text": [
      "Найпопулярніше серед найменш популярних імен за всі роки: Abb\n"
     ]
    }
   ],
   "source": [
    "# Знайдіть загальну кількість народжень для кожного імені в кожному році\n",
    "total_counts_per_name_year = df.groupby(['Year', 'Name'])['Count'].sum().reset_index()\n",
    "\n",
    "# Знайдіть найменш популярні імена по роках\n",
    "most_unpopular_names_per_year = total_counts_per_name_year.loc[total_counts_per_name_year.groupby('Year')['Count'].idxmin()]\n",
    "\n",
    "# Створіть список найнепопулярніших імен за всі роки\n",
    "most_unpopular_names_overall = most_unpopular_names_per_year.groupby('Name')['Count'].sum().idxmax()\n",
    "\n",
    "# Виведення результату\n",
    "print(f\"Найпопулярніше серед найменш популярних імен за всі роки: {most_unpopular_names_overall}\")\n"
   ]
  },
  {
   "cell_type": "markdown",
   "id": "ed2be419",
   "metadata": {},
   "source": [
    "## 25. Побудувати графіки розподілення кількості імен John та Mary по роках без залежності до статі."
   ]
  },
  {
   "cell_type": "code",
   "execution_count": 18,
   "id": "7db334ec",
   "metadata": {},
   "outputs": [
    {
     "data": {
      "image/png": "[encoded data removed]",
      "text/plain": [
       "<Figure size 1000x600 with 1 Axes>"
      ]
     },
     "metadata": {},
     "output_type": "display_data"
    }
   ],
   "source": [
    "import matplotlib.pyplot as plt\n",
    "\n",
    "name_counts = df.groupby(['Year', 'Name'])['Count'].sum()\n",
    "john_data = name_counts.loc[:, 'John']\n",
    "mary_data = name_counts.loc[:, 'Mary']\n",
    "\n",
    "plt.figure(figsize=(10, 6))\n",
    "plt.plot(john_data.index, john_data.values, label='John')\n",
    "plt.plot(mary_data.index, mary_data.values, label='Mary')\n",
    "plt.xlabel('Year')\n",
    "plt.legend()\n",
    "plt.show()"
   ]
  },
  {
   "cell_type": "markdown",
   "id": "192218fa",
   "metadata": {},
   "source": [
    "## 26. Побудувати графіки розподілення кількості жіночих імен John та чоловічих імен Mary по роках."
   ]
  },
  {
   "cell_type": "code",
   "execution_count": 19,
   "id": "52d30e64",
   "metadata": {},
   "outputs": [
    {
     "data": {
      "image/png": "[encoded data removed]",
      "text/plain": [
       "<Figure size 1200x600 with 1 Axes>"
      ]
     },
     "metadata": {},
     "output_type": "display_data"
    }
   ],
   "source": [
    "import matplotlib.pyplot as plt\n",
    "\n",
    "john_data = df[(df['Name'] == 'John') & (df['Gender'] == 'F')]\n",
    "mary_data = df[(df['Name'] == 'Mary') & (df['Gender'] == 'M')]\n",
    "\n",
    "john_counts_by_year = john_data.groupby('Year')['Count'].sum()\n",
    "mary_counts_by_year = mary_data.groupby('Year')['Count'].sum()\n",
    "\n",
    "plt.figure(figsize=(12, 6))\n",
    "plt.plot(john_counts_by_year.index, john_counts_by_year.values, label='John', color='blue')\n",
    "plt.plot(mary_counts_by_year.index, mary_counts_by_year.values, label='Mary', color='red')\n",
    "plt.title('Розподілення кількості імен John та Mary по роках')\n",
    "plt.xlabel('Year')\n",
    "plt.ylabel('Count')\n",
    "plt.legend()\n",
    "plt.grid(True)\n",
    "plt.show()"
   ]
  },
  {
   "cell_type": "markdown",
   "id": "ea89236e",
   "metadata": {},
   "source": [
    "## 27. Знайти найпопулярніші імена в кожному році."
   ]
  },
  {
   "cell_type": "code",
   "execution_count": 20,
   "id": "5f15e348",
   "metadata": {},
   "outputs": [
    {
     "name": "stdout",
     "output_type": "stream",
     "text": [
      " Year     Name  Count\n",
      " 1880     John   9655\n",
      " 1881     John   8769\n",
      " 1882     John   9557\n",
      " 1883     John   8894\n",
      " 1884     John   9388\n",
      " 1885     Mary   9128\n",
      " 1886     Mary   9890\n",
      " 1887     Mary   9888\n",
      " 1888     Mary  11754\n",
      " 1889     Mary  11648\n",
      " 1890     Mary  12078\n",
      " 1891     Mary  11703\n",
      " 1892     Mary  13173\n",
      " 1893     Mary  12784\n",
      " 1894     Mary  13151\n",
      " 1895     Mary  13446\n",
      " 1896     Mary  13811\n",
      " 1897     Mary  13413\n",
      " 1898     Mary  14406\n",
      " 1899     Mary  13172\n",
      " 1900     Mary  16707\n",
      " 1901     Mary  13136\n",
      " 1902     Mary  14486\n",
      " 1903     Mary  14275\n",
      " 1904     Mary  14962\n",
      " 1905     Mary  16067\n",
      " 1906     Mary  16370\n",
      " 1907     Mary  17580\n",
      " 1908     Mary  18666\n",
      " 1909     Mary  19259\n",
      " 1910     Mary  22848\n",
      " 1911     Mary  24390\n",
      " 1912     Mary  32303\n",
      " 1913     Mary  36641\n",
      " 1914     Mary  45344\n",
      " 1915     Mary  58187\n",
      " 1916     Mary  61437\n",
      " 1917     Mary  64280\n",
      " 1918     Mary  67370\n",
      " 1919     Mary  65840\n",
      " 1920     Mary  70976\n",
      " 1921     Mary  73985\n",
      " 1922     Mary  72171\n",
      " 1923     Mary  71634\n",
      " 1924     Mary  73527\n",
      " 1925     Mary  70601\n",
      " 1926     Mary  67823\n",
      " 1927     Mary  70632\n",
      " 1928     Mary  66866\n",
      " 1929     Mary  63508\n",
      " 1930     Mary  64134\n",
      " 1931   Robert  60497\n",
      " 1932     Mary  59871\n",
      " 1933     Mary  55493\n",
      " 1934     Mary  56918\n",
      " 1935   Robert  56514\n",
      " 1936   Robert  58486\n",
      " 1937   Robert  61821\n",
      " 1938   Robert  62262\n",
      " 1939   Robert  59640\n",
      " 1940    James  62472\n",
      " 1941    James  66719\n",
      " 1942    James  77173\n",
      " 1943    James  80248\n",
      " 1944    James  76944\n",
      " 1945    James  74450\n",
      " 1946    James  87425\n",
      " 1947    Linda  99680\n",
      " 1948    Linda  96205\n",
      " 1949    Linda  91010\n",
      " 1950    James  86221\n",
      " 1951    James  87175\n",
      " 1952    James  87083\n",
      " 1953   Robert  86135\n",
      " 1954  Michael  88485\n",
      " 1955  Michael  88283\n",
      " 1956  Michael  90633\n",
      " 1957  Michael  92709\n",
      " 1958  Michael  90519\n",
      " 1959  Michael  85272\n",
      " 1960    David  85931\n",
      " 1961  Michael  86916\n",
      " 1962  Michael  85046\n",
      " 1963  Michael  83795\n",
      " 1964  Michael  82674\n",
      " 1965  Michael  81048\n",
      " 1966  Michael  80002\n",
      " 1967  Michael  82454\n",
      " 1968  Michael  82019\n",
      " 1969  Michael  85227\n",
      " 1970  Michael  85321\n",
      " 1971  Michael  77611\n",
      " 1972  Michael  71426\n",
      " 1973  Michael  67864\n",
      " 1974  Michael  67577\n",
      " 1975  Michael  68457\n",
      " 1976  Michael  66971\n",
      " 1977  Michael  67611\n",
      " 1978  Michael  67153\n",
      " 1979  Michael  67728\n",
      " 1980  Michael  68666\n",
      " 1981  Michael  68752\n",
      " 1982  Michael  68204\n",
      " 1983  Michael  67986\n",
      " 1984  Michael  67722\n",
      " 1985  Michael  64887\n",
      " 1986  Michael  64184\n",
      " 1987  Michael  63631\n",
      " 1988  Michael  64116\n",
      " 1989  Michael  65374\n",
      " 1990  Michael  65274\n",
      " 1991  Michael  60781\n",
      " 1992  Michael  54377\n",
      " 1993  Michael  49553\n",
      " 1994  Michael  44465\n",
      " 1995  Michael  41403\n",
      " 1996  Michael  38364\n",
      " 1997  Michael  37543\n",
      " 1998  Michael  36613\n",
      " 1999    Jacob  35344\n",
      " 2000    Jacob  34465\n",
      " 2001    Jacob  32527\n",
      " 2002    Jacob  30556\n",
      " 2003    Jacob  29615\n",
      " 2004    Jacob  27871\n",
      " 2005    Jacob  25814\n",
      " 2006    Jacob  24830\n",
      " 2007    Jacob  24252\n",
      " 2008    Jacob  22568\n",
      " 2009 Isabella  22278\n",
      " 2010 Isabella  22883\n",
      " 2011   Sophia  21816\n",
      " 2012   Sophia  22267\n",
      " 2013   Sophia  21147\n",
      " 2014     Emma  20799\n"
     ]
    }
   ],
   "source": [
    "most_popular_names_by_year = df.loc[df.groupby('Year')['Count'].idxmax()][['Year', 'Name', 'Count']]\n",
    "\n",
    "print(most_popular_names_by_year.to_string(index=False))"
   ]
  },
  {
   "cell_type": "code",
   "execution_count": null,
   "id": "ec9d66d5",
   "metadata": {},
   "outputs": [],
   "source": []
  }
 ],
 "metadata": {
  "kernelspec": {
   "display_name": "Python 3 (ipykernel)",
   "language": "python",
   "name": "python3"
  },
  "language_info": {
   "codemirror_mode": {
    "name": "ipython",
    "version": 3
   },
   "file_extension": ".py",
   "mimetype": "text/x-python",
   "name": "python",
   "nbconvert_exporter": "python",
   "pygments_lexer": "ipython3",
   "version": "3.11.5"
  }
 },
 "nbformat": 4,
 "nbformat_minor": 5
}
