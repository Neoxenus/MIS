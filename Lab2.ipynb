{
 "cells": [
  {
   "cell_type": "markdown",
   "id": "88c07248",
   "metadata": {},
   "source": [
    "# 1. Виконати набір вправ. Всі завдання виконати 2 способами:\n",
    "- а) з використанням універсальних функцій бібліотеки NumPy.\n",
    "- b) за допомогою ітеративних конструкцій (з використанням\n",
    "циклів, спискових включень тощо).\n",
    "- с) для обох випадків підрахувати час виконання скрипту та\n",
    "зробити висновки."
   ]
  },
  {
   "cell_type": "markdown",
   "id": "c53c31f0",
   "metadata": {},
   "source": [
    "## Варіант 5"
   ]
  },
  {
   "cell_type": "code",
   "execution_count": 3,
   "id": "3f3cbd7d",
   "metadata": {},
   "outputs": [],
   "source": [
    "import numpy as np\n",
    "import random"
   ]
  },
  {
   "cell_type": "markdown",
   "id": "214c4380",
   "metadata": {},
   "source": [
    "## Вправа 3. \n",
    "Вводяться 4 числа n, m, r, c. Вивести масив розміру n×m, в якому в кожному рядку з номером r і в кожному стовпчику з номером c стоять 0, а інші елементи дорівнюють 1."
   ]
  },
  {
   "cell_type": "code",
   "execution_count": 72,
   "id": "0f4cf250",
   "metadata": {
    "scrolled": true
   },
   "outputs": [
    {
     "name": "stdout",
     "output_type": "stream",
     "text": [
      "Введіть n: 6\n",
      "Введіть m: 7\n",
      "Введіть r: 2\n",
      "Введіть c: 3\n"
     ]
    }
   ],
   "source": [
    "# Введення чисел n, m, r, c\n",
    "n = int(input(\"Введіть n: \"))\n",
    "m = int(input(\"Введіть m: \"))\n",
    "r = int(input(\"Введіть r: \"))\n",
    "c = int(input(\"Введіть c: \"))"
   ]
  },
  {
   "cell_type": "code",
   "execution_count": 73,
   "id": "a8c67df4",
   "metadata": {},
   "outputs": [
    {
     "name": "stdout",
     "output_type": "stream",
     "text": [
      "Масив за допомогою NumPy:\n",
      "[[0 0 0 0 0 0 0]\n",
      " [0 1 1 0 1 1 0]\n",
      " [0 0 0 0 0 0 0]\n",
      " [0 1 1 0 1 1 0]\n",
      " [0 0 0 0 0 0 0]\n",
      " [0 1 1 0 1 1 0]]\n",
      "CPU times: total: 0 ns\n",
      "Wall time: 0 ns\n"
     ]
    }
   ],
   "source": [
    "%%time\n",
    "# Використання NumPy для створення масиву\n",
    "array_np = np.ones((n, m), dtype=int)\n",
    "\n",
    "# Заміна елементів у рядку r на 0\n",
    "array_np[::r, :] = 0\n",
    "\n",
    "# Заміна елементів у стовпці c на 0\n",
    "array_np[:, ::c] = 0\n",
    "\n",
    "print(\"Масив за допомогою NumPy:\")\n",
    "print(array_np)"
   ]
  },
  {
   "cell_type": "code",
   "execution_count": 74,
   "id": "45af3576",
   "metadata": {
    "scrolled": true
   },
   "outputs": [
    {
     "name": "stdout",
     "output_type": "stream",
     "text": [
      "Масив за допомогою ітеративних конструкцій:\n",
      "[0, 0, 0, 0, 0, 0, 0]\n",
      "[0, 1, 1, 0, 1, 1, 0]\n",
      "[0, 0, 0, 0, 0, 0, 0]\n",
      "[0, 1, 1, 0, 1, 1, 0]\n",
      "[0, 0, 0, 0, 0, 0, 0]\n",
      "[0, 1, 1, 0, 1, 1, 0]\n",
      "CPU times: total: 0 ns\n",
      "Wall time: 0 ns\n"
     ]
    }
   ],
   "source": [
    "%%time\n",
    "# Використання ітеративних конструкцій для створення масиву\n",
    "array_iter = [[0 if i % r == 0 or j % c == 0 else 1 for j in range(m)] for i in range(n)] \n",
    "\n",
    "print(\"Масив за допомогою ітеративних конструкцій:\")\n",
    "for row in array_iter:\n",
    "    print(row)"
   ]
  },
  {
   "cell_type": "markdown",
   "id": "2d12e758",
   "metadata": {},
   "source": [
    "## Вправа 5. \n",
    "Вводиться число n. Вивести масив розміру n×n, в\n",
    "якому в рядках з парними індексами стоять 1, а в інших – 0."
   ]
  },
  {
   "cell_type": "code",
   "execution_count": 5,
   "id": "62f7c061",
   "metadata": {
    "scrolled": true
   },
   "outputs": [
    {
     "name": "stdout",
     "output_type": "stream",
     "text": [
      "Введіть n: 5\n"
     ]
    }
   ],
   "source": [
    "# Введення числа n\n",
    "n = int(input(\"Введіть n: \"))"
   ]
  },
  {
   "cell_type": "code",
   "execution_count": 75,
   "id": "8eee3d7d",
   "metadata": {},
   "outputs": [
    {
     "name": "stdout",
     "output_type": "stream",
     "text": [
      "Масив за допомогою NumPy:\n",
      "[[1 1 1 1 1 1]\n",
      " [0 0 0 0 0 0]\n",
      " [1 1 1 1 1 1]\n",
      " [0 0 0 0 0 0]\n",
      " [1 1 1 1 1 1]\n",
      " [0 0 0 0 0 0]]\n",
      "CPU times: total: 0 ns\n",
      "Wall time: 0 ns\n"
     ]
    }
   ],
   "source": [
    "%%time\n",
    "# Використання NumPy для створення масиву\n",
    "array_np = np.zeros((n, n), dtype=int)\n",
    "\n",
    "# Заміна елементів у рядках з парними індексами на 1\n",
    "array_np[::2, :] = 1\n",
    "\n",
    "print(\"Масив за допомогою NumPy:\")\n",
    "print(array_np)"
   ]
  },
  {
   "cell_type": "code",
   "execution_count": 76,
   "id": "b55a4b10",
   "metadata": {},
   "outputs": [
    {
     "name": "stdout",
     "output_type": "stream",
     "text": [
      "Масив за допомогою ітеративних конструкцій:\n",
      "[1, 1, 1, 1, 1, 1]\n",
      "[0, 0, 0, 0, 0, 0]\n",
      "[1, 1, 1, 1, 1, 1]\n",
      "[0, 0, 0, 0, 0, 0]\n",
      "[1, 1, 1, 1, 1, 1]\n",
      "[0, 0, 0, 0, 0, 0]\n",
      "CPU times: total: 0 ns\n",
      "Wall time: 1.01 ms\n"
     ]
    }
   ],
   "source": [
    "%%time\n",
    "# Використання ітеративних конструкцій для створення масиву\n",
    "array_iter = [[1 if i % 2 == 0 else 0 for j in range(n)] for i in range(n)]\n",
    "\n",
    "print(\"Масив за допомогою ітеративних конструкцій:\")\n",
    "for row in array_iter:\n",
    "    print(row)"
   ]
  },
  {
   "cell_type": "markdown",
   "id": "c3bce845",
   "metadata": {},
   "source": [
    "## Вправа 7. \n",
    "З клавіатури вводиться масив. Замінити всі нульові\n",
    "елементи на –1."
   ]
  },
  {
   "cell_type": "code",
   "execution_count": 8,
   "id": "c4eccd59",
   "metadata": {},
   "outputs": [
    {
     "name": "stdout",
     "output_type": "stream",
     "text": [
      "Введіть елементи масиву через пробіл: 3 4 0 6 5 0 3 0 4\n"
     ]
    }
   ],
   "source": [
    "\n",
    "# Введення масиву з клавіатури\n",
    "input_array = input(\"Введіть елементи масиву через пробіл: \").split()\n",
    "input_array = [int(element) for element in input_array]\n",
    "# input_array = np.random.randint(0, 2, 100000)\n",
    "# input_array"
   ]
  },
  {
   "cell_type": "code",
   "execution_count": 9,
   "id": "3c22110d",
   "metadata": {},
   "outputs": [
    {
     "name": "stdout",
     "output_type": "stream",
     "text": [
      "Масив після заміни нульових елементів на -1: [ 3  4 -1  6  5 -1  3 -1  4]\n",
      "CPU times: total: 0 ns\n",
      "Wall time: 0 ns\n"
     ]
    }
   ],
   "source": [
    "%%time\n",
    "\n",
    "import numpy as np\n",
    "\n",
    "# Введення масиву з клавіатури\n",
    "np_array = np.array(input_array)\n",
    "\n",
    "# Заміна нульових елементів на -1\n",
    "np_output = np.where(np_array == 0, -1, input_array)\n",
    "\n",
    "# Виведення результату\n",
    "print(\"Масив після заміни нульових елементів на -1:\", np_output)"
   ]
  },
  {
   "cell_type": "code",
   "execution_count": 10,
   "id": "7558fd17",
   "metadata": {
    "scrolled": true
   },
   "outputs": [
    {
     "name": "stdout",
     "output_type": "stream",
     "text": [
      "Масив після заміни нульових елементів на -1: [3, 4, -1, 6, 5, -1, 3, -1, 4]\n",
      "CPU times: total: 0 ns\n",
      "Wall time: 0 ns\n"
     ]
    }
   ],
   "source": [
    "%%time\n",
    "\n",
    "# Заміна нульових елементів на -1 за допомогою спискового включення\n",
    "output_array = [-1 if element == 0 else element for element in input_array]\n",
    "\n",
    "# Виведення результату\n",
    "print(\"Масив після заміни нульових елементів на -1:\", output_array)"
   ]
  },
  {
   "cell_type": "markdown",
   "id": "f69debbf",
   "metadata": {},
   "source": [
    "## Вправа 10. \n",
    "Вводиться числа n i m. Створити масив випадкових\n",
    "значень n×m і обчислити мінімальне, максимальне значення, середнє та\n",
    "середньо квадратичне відхилення, округлене до 3 знаків після коми."
   ]
  },
  {
   "cell_type": "code",
   "execution_count": 14,
   "id": "4958daca",
   "metadata": {},
   "outputs": [
    {
     "name": "stdout",
     "output_type": "stream",
     "text": [
      "Введіть n: 4\n",
      "Введіть m: 5\n"
     ]
    }
   ],
   "source": [
    "# Введення чисел n і m\n",
    "n = int(input(\"Введіть n: \"))\n",
    "m = int(input(\"Введіть m: \"))"
   ]
  },
  {
   "cell_type": "code",
   "execution_count": 16,
   "id": "5e968860",
   "metadata": {},
   "outputs": [
    {
     "name": "stdout",
     "output_type": "stream",
     "text": [
      "Згенерований масив:  [[0.00832097 0.27559047 0.37286253 0.11009716 0.70507249]\n",
      " [0.68017105 0.17699645 0.28405661 0.43473713 0.32324645]\n",
      " [0.40323145 0.96384245 0.98745653 0.88245933 0.7405769 ]\n",
      " [0.84090457 0.87606631 0.91139742 0.19479828 0.22096553]]\n",
      "Мінімальне значення: 0.008\n",
      "Максимальне значення: 0.987\n",
      "Середнє значення: 0.52\n",
      "Середньо квадратичне відхилення: 0.314\n"
     ]
    }
   ],
   "source": [
    "%%time\n",
    "array_np = np.random.rand(n, m)\n",
    "print(\"Згенерований масив: \", array_np)\n",
    "# Обчислення мінімального, максимального значень, середнього та середньо квадратичного відхилення\n",
    "min_value = np.min(array_np)\n",
    "max_value = np.max(array_np)\n",
    "mean_value = np.mean(array_np)\n",
    "std_deviation = np.std(array_np)\n",
    "\n",
    "# Виведення результатів\n",
    "print(\"Мінімальне значення:\", round(min_value, 3))\n",
    "print(\"Максимальне значення:\", round(max_value, 3))\n",
    "print(\"Середнє значення:\", round(mean_value, 3))\n",
    "print(\"Середньо квадратичне відхилення:\", round(std_deviation, 3))"
   ]
  },
  {
   "cell_type": "code",
   "execution_count": 77,
   "id": "62f11fe0",
   "metadata": {},
   "outputs": [
    {
     "name": "stdout",
     "output_type": "stream",
     "text": [
      "Згенерований масив:  [[0.23881245663866335, 0.6835758951651152, 0.5895664206732022, 0.5897928018401389, 0.37747798329628746, 0.17799754979551163, 0.3176727325038028], [0.5255810241526071, 0.30970215851834715, 0.6449905537940661, 0.0841203029550397, 0.16970575063532756, 0.7721055157737522, 0.7672786454359081], [0.2189626935190443, 0.2185547514953653, 0.35368314832841297, 0.4792151447886742, 0.6576979671146679, 0.42624852353486054, 0.025862319857820948], [0.1963425727046606, 0.3179402881719823, 0.5529348016961805, 0.3353495339111121, 0.6323694240648271, 0.7592587455279411, 0.8591217254861397], [0.10854134965925877, 0.49672763627341765, 0.42700495091655055, 0.8582543067921089, 0.7772519946775026, 0.19602120556150215, 0.35670047120674087], [0.4449072858428679, 0.7725140865100676, 0.655743619215846, 0.36643245285568204, 0.07957127806589426, 0.6373231107051187, 0.9536768726878541]]\n",
      "Мінімальне значення: 0.026\n",
      "Максимальне значення: 0.954\n",
      "Середнє значення: 0.462\n",
      "Середньо квадратичне відхилення: 0.244\n",
      "CPU times: total: 0 ns\n",
      "Wall time: 0 ns\n"
     ]
    }
   ],
   "source": [
    "%%time\n",
    "# Створення масиву випадкових значень n×m за допомогою ітеративних конструкцій\n",
    "array_iter = [[random.random() for j in range(m)] for i in range(n)]\n",
    "\n",
    "# Обчислення мінімального, максимального значень, середнього та середньо квадратичного відхилення\n",
    "min_value = min(min(row) for row in array_iter)\n",
    "max_value = max(max(row) for row in array_iter)\n",
    "mean_value = sum(sum(row) for row in array_iter) / (n * m)\n",
    "std_deviation = (sum((x - mean_value) ** 2 for row in array_iter for x in row) / (n * m)) ** 0.5\n",
    "\n",
    "# Виведення результатів\n",
    "print(\"Згенерований масив: \", array_iter)\n",
    "print(\"Мінімальне значення:\", round(min_value, 3))\n",
    "print(\"Максимальне значення:\", round(max_value, 3))\n",
    "print(\"Середнє значення:\", round(mean_value, 3))\n",
    "print(\"Середньо квадратичне відхилення:\", round(std_deviation, 3))"
   ]
  },
  {
   "cell_type": "markdown",
   "id": "ed95aea9",
   "metadata": {},
   "source": [
    "## Вправа 12. \n",
    "Створити масив одиниць розміром n×n та створити в\n",
    "ньому «рамку», що утворюється з 0."
   ]
  },
  {
   "cell_type": "code",
   "execution_count": 24,
   "id": "d8060098",
   "metadata": {
    "scrolled": false
   },
   "outputs": [
    {
     "name": "stdout",
     "output_type": "stream",
     "text": [
      "Введіть n: 4\n"
     ]
    }
   ],
   "source": [
    "n = int(input(\"Введіть n: \"))"
   ]
  },
  {
   "cell_type": "code",
   "execution_count": 79,
   "id": "0b12d208",
   "metadata": {},
   "outputs": [
    {
     "name": "stdout",
     "output_type": "stream",
     "text": [
      "Масив за допомогою NumPy:\n",
      "[[0 0 0 0 0 0]\n",
      " [0 1 1 1 1 0]\n",
      " [0 1 1 1 1 0]\n",
      " [0 1 1 1 1 0]\n",
      " [0 1 1 1 1 0]\n",
      " [0 0 0 0 0 0]]\n",
      "CPU times: total: 0 ns\n",
      "Wall time: 0 ns\n"
     ]
    }
   ],
   "source": [
    "%%time\n",
    "# Створення масиву одиниць розміром n×n за допомогою NumPy\n",
    "array_np = np.zeros((n, n), dtype=int)\n",
    "\n",
    "# Створення \"рамки\" з нулів\n",
    "array_np[1:-1, 1:-1] = 1\n",
    "\n",
    "print(\"Масив за допомогою NumPy:\")\n",
    "print(array_np)"
   ]
  },
  {
   "cell_type": "code",
   "execution_count": 80,
   "id": "3b55e2dd",
   "metadata": {},
   "outputs": [
    {
     "name": "stdout",
     "output_type": "stream",
     "text": [
      "Масив за допомогою ітеративних конструкцій:\n",
      "[0, 0, 0, 0, 0, 0]\n",
      "[0, 1, 1, 1, 1, 0]\n",
      "[0, 1, 1, 1, 1, 0]\n",
      "[0, 1, 1, 1, 1, 0]\n",
      "[0, 1, 1, 1, 1, 0]\n",
      "[0, 0, 0, 0, 0, 0]\n",
      "CPU times: total: 0 ns\n",
      "Wall time: 0 ns\n"
     ]
    }
   ],
   "source": [
    "%%time\n",
    "# Створення масиву одиниць розміром n×n за допомогою ітеративних конструкцій\n",
    "array_iter = [[0 if i == 0 or i == n - 1 or j == 0 or j == n - 1 else 1 for j in range(n)] for i in range(n)]\n",
    "\n",
    "print(\"Масив за допомогою ітеративних конструкцій:\")\n",
    "for row in array_iter:\n",
    "    print(row)"
   ]
  },
  {
   "cell_type": "markdown",
   "id": "1f4eb4bd",
   "metadata": {},
   "source": [
    "## Вправа 14. \n",
    "Розмістити на полі 8×8 нулі та одиниці в шахматному\n",
    "порядку, використовуючи функцію numpy tile()."
   ]
  },
  {
   "cell_type": "code",
   "execution_count": 81,
   "id": "f71d56fa",
   "metadata": {},
   "outputs": [
    {
     "name": "stdout",
     "output_type": "stream",
     "text": [
      "Масив за допомогою NumPy:\n",
      "[[0 1 0 1 0 1 0 1]\n",
      " [1 0 1 0 1 0 1 0]\n",
      " [0 1 0 1 0 1 0 1]\n",
      " [1 0 1 0 1 0 1 0]\n",
      " [0 1 0 1 0 1 0 1]\n",
      " [1 0 1 0 1 0 1 0]\n",
      " [0 1 0 1 0 1 0 1]\n",
      " [1 0 1 0 1 0 1 0]]\n",
      "CPU times: total: 0 ns\n",
      "Wall time: 1.02 ms\n"
     ]
    }
   ],
   "source": [
    "%%time\n",
    "# Створення масиву 8x8 з нулів та одиниць в шахматному порядку за допомогою NumPy\n",
    "array_np = np.tile([[0, 1], [1, 0]], (4, 4))\n",
    "\n",
    "print(\"Масив за допомогою NumPy:\")\n",
    "print(array_np)"
   ]
  },
  {
   "cell_type": "code",
   "execution_count": 83,
   "id": "bc639103",
   "metadata": {},
   "outputs": [
    {
     "name": "stdout",
     "output_type": "stream",
     "text": [
      "Масив за допомогою ітеративних конструкцій:\n",
      "[0, 1, 0, 1, 0, 1, 0, 1]\n",
      "[1, 0, 1, 0, 1, 0, 1, 0]\n",
      "[0, 1, 0, 1, 0, 1, 0, 1]\n",
      "[1, 0, 1, 0, 1, 0, 1, 0]\n",
      "[0, 1, 0, 1, 0, 1, 0, 1]\n",
      "[1, 0, 1, 0, 1, 0, 1, 0]\n",
      "[0, 1, 0, 1, 0, 1, 0, 1]\n",
      "[1, 0, 1, 0, 1, 0, 1, 0]\n",
      "CPU times: total: 15.6 ms\n",
      "Wall time: 982 µs\n"
     ]
    }
   ],
   "source": [
    "%%time\n",
    "# Створення масиву 8x8 з нулів та одиниць в шахматному порядку за допомогою ітеративних конструкцій\n",
    "array_iter = [[(i + j) % 2 for j in range(8)] for i in range(8)]\n",
    "\n",
    "print(\"Масив за допомогою ітеративних конструкцій:\")\n",
    "for row in array_iter:\n",
    "    print(row)"
   ]
  },
  {
   "cell_type": "code",
   "execution_count": null,
   "id": "92d7108c",
   "metadata": {},
   "outputs": [],
   "source": [
    "# 2. Розв’язати систему алгебраїчних рівнянь за допомогою формул Крамера і виконати перевірку за допомогою:\n",
    "- a) матричного множення;\n",
    "- b) оберненої матриці;\n",
    "- c) функції numpy.linalg.solve().\n",
    "\n",
    "Порівняти всі рішення за допомогою функції numpy.allclose().\n",
    "\n",
    "$$\\begin{equation}\n",
    "  \\left\\{\n",
    "  \\begin{aligned}\n",
    "     & x_1 + 3x_2 + 5x_3 + 7x_4 &= 12 \\\\\n",
    "     & 3x_1 + 5x_2 + 7x_3 + x_4 &= 0 \\\\\n",
    "     & 5x_1 + 7x_2 + x_3 + 3x_4 &= 4 \\\\\n",
    "     & 7x_1 + x_2 + 3x_3 + 5x_4 &= 16\n",
    "  \\end{aligned}\n",
    "  \\right.\n",
    "\\end{equation}$$"
   ]
  },
  {
   "cell_type": "code",
   "execution_count": 39,
   "id": "10ee05b0",
   "metadata": {},
   "outputs": [
    {
     "name": "stdout",
     "output_type": "stream",
     "text": [
      "Значення невідомих за допомогою формул Крамера:\n",
      "x1 = 1.0000000000000009\n",
      "x2 = -1.0000000000000009\n",
      "x3 = -7.853566282149544e-17\n",
      "x4 = 2.0\n",
      "\n",
      "Перевірка за допомогою матричного множення:\n",
      "A * X = [ 1.20000000e+01 -2.22044605e-15  4.00000000e+00  1.60000000e+01]\n",
      "Вектор вільних членів B = [12  0  4 16]\n",
      "Всі значення однакові: True\n",
      "\n",
      "Перевірка за допомогою оберненої матриці:\n",
      "A_inv * B = [ 1.00000000e+00 -1.00000000e+00 -1.66533454e-16  2.00000000e+00]\n",
      "Всі значення однакові: True\n",
      "\n",
      "Перевірка за допомогою numpy.linalg.solve():\n",
      "numpy.linalg.solve(A, B) = [ 1.00000000e+00 -1.00000000e+00 -5.24271984e-17  2.00000000e+00]\n",
      "Всі значення однакові: True\n"
     ]
    }
   ],
   "source": [
    "# Основна матриця системи\n",
    "A = np.array([[1, 3, 5, 7],\n",
    "              [3, 5, 7, 1],\n",
    "              [5, 7, 1, 3],\n",
    "              [7, 1, 3, 5]])\n",
    "\n",
    "# Вектор вільних членів\n",
    "B = np.array([12, 0, 4, 16])\n",
    "\n",
    "# Визначник основної матриці\n",
    "det_A = np.linalg.det(A)\n",
    "\n",
    "# Знаходження визначників матриць, отриманих заміною відповідних стовпців вектором вільних членів\n",
    "det_A1 = np.linalg.det(np.column_stack((B, A[:, 1:])))\n",
    "det_A2 = np.linalg.det(np.column_stack((A[:, 0], B, A[:, 2:])))\n",
    "det_A3 = np.linalg.det(np.column_stack((A[:, :2], B, A[:, 3])))\n",
    "det_A4 = np.linalg.det(np.column_stack((A[:, :3], B)))\n",
    "\n",
    "# Знаходження значень невідомих за формулами Крамера\n",
    "x1 = det_A1 / det_A\n",
    "x2 = det_A2 / det_A\n",
    "x3 = det_A3 / det_A\n",
    "x4 = det_A4 / det_A\n",
    "X = np.array([x1, x2, x3, x4])\n",
    "# Виведення результатів\n",
    "print(\"Значення невідомих за допомогою формул Крамера:\")\n",
    "print(\"x1 =\", x1)\n",
    "print(\"x2 =\", x2)\n",
    "print(\"x3 =\", x3)\n",
    "print(\"x4 =\", x4)\n",
    "\n",
    "# Перевірка за допомогою матричного множення\n",
    "result_check = np.dot(A, np.array([x1, x2, x3, x4]))\n",
    "all_close_matrix_mult = np.allclose(result_check, B)\n",
    "print(\"\\nПеревірка за допомогою матричного множення:\")\n",
    "print(\"A * X =\", result_check)\n",
    "print(\"Вектор вільних членів B =\", B)\n",
    "print(\"Всі значення однакові:\", all_close_matrix_mult)\n",
    "\n",
    "# Перевірка за допомогою оберненої матриці\n",
    "A_inv = np.linalg.inv(A)\n",
    "result_check_inv = np.dot(A_inv, B)\n",
    "all_close_inv = np.allclose(result_check_inv, X)\n",
    "print(\"\\nПеревірка за допомогою оберненої матриці:\")\n",
    "print(\"A_inv * B =\", result_check_inv)\n",
    "print(\"Всі значення однакові:\", all_close_inv)\n",
    "\n",
    "# Перевірка за допомогою функції numpy.linalg.solve()\n",
    "result_solve = np.linalg.solve(A, B)\n",
    "all_close_solve = np.allclose(result_solve, X)\n",
    "print(\"\\nПеревірка за допомогою numpy.linalg.solve():\")\n",
    "print(\"numpy.linalg.solve(A, B) =\", result_solve)\n",
    "print(\"Всі значення однакові:\", all_close_solve)"
   ]
  },
  {
   "cell_type": "markdown",
   "id": "f7322493",
   "metadata": {},
   "source": [
    "## Вправа 21\n",
    "Ввести числа n і m. Згенерувати матрицю n×n\n",
    "випадкових цілих елементів з діапазону [0, m]. Замінити всі\n",
    "максимальні елементи цієї матриці на протилежні за знаком."
   ]
  },
  {
   "cell_type": "code",
   "execution_count": 4,
   "id": "ba182db6",
   "metadata": {
    "scrolled": true
   },
   "outputs": [
    {
     "name": "stdout",
     "output_type": "stream",
     "text": [
      "4\n",
      "10\n",
      "Матриця:\n",
      "[[ 4  4  5  3]\n",
      " [ 7  1  3  0]\n",
      " [10  0 10  0]\n",
      " [ 3  8  7  4]]\n"
     ]
    }
   ],
   "source": [
    "n = int(input())\n",
    "m = int(input())\n",
    "matrix = np.random.randint(0, m+1, size=(n, n))\n",
    "print(\"Матриця:\")\n",
    "print(matrix)"
   ]
  },
  {
   "cell_type": "code",
   "execution_count": 5,
   "id": "5bacf823",
   "metadata": {},
   "outputs": [
    {
     "name": "stdout",
     "output_type": "stream",
     "text": [
      "Матриця з використанням NumPy:\n",
      "[[  4   4   5   3]\n",
      " [  7   1   3   0]\n",
      " [-10   0 -10   0]\n",
      " [  3   8   7   4]]\n",
      "CPU times: total: 0 ns\n",
      "Wall time: 0 ns\n"
     ]
    }
   ],
   "source": [
    "%%time\n",
    "\n",
    "matrix_a = matrix.copy()\n",
    "max_value = np.max(matrix_a)\n",
    "matrix_a[matrix_a == max_value] *= -1\n",
    "\n",
    "print(\"Матриця з використанням NumPy:\")\n",
    "print(matrix_a)"
   ]
  },
  {
   "cell_type": "code",
   "execution_count": 6,
   "id": "2bd7277c",
   "metadata": {},
   "outputs": [
    {
     "name": "stdout",
     "output_type": "stream",
     "text": [
      "Матриця з використанням ітерацій:\n",
      "[4 4 5 3]\n",
      "[7 1 3 0]\n",
      "[-10   0 -10   0]\n",
      "[3 8 7 4]\n",
      "CPU times: total: 0 ns\n",
      "Wall time: 1.01 ms\n"
     ]
    }
   ],
   "source": [
    "%%time\n",
    "\n",
    "matrix_a = matrix.copy()\n",
    "max_value = max(max(row) for row in matrix_a)\n",
    "\n",
    "for i in range(n):\n",
    "    for j in range(n):\n",
    "        if matrix_a[i][j] == max_value:\n",
    "            matrix_a[i][j] *= -1\n",
    "\n",
    "print(\"Матриця з використанням ітерацій:\")\n",
    "for row in matrix_a:\n",
    "    print(row)"
   ]
  },
  {
   "cell_type": "markdown",
   "id": "f5da62a8",
   "metadata": {},
   "source": [
    "# 3. Обчислити значення матричного виразу \n",
    "$$ (A-B^2)(2A+B)$$, де $$\n",
    "A = \n",
    "    \\begin{pmatrix}\n",
    "      5 & 2 & 0 \\\\\n",
    "      10 & 4 & 1 \\\\\n",
    "      7 & 3 & 2 \\\\\n",
    "    \\end{pmatrix}\n",
    "B = \n",
    "    \\begin{pmatrix}\n",
    "      3 & 6 & -1 \\\\\n",
    "      -1 & -2 & 0 \\\\\n",
    "      2 & 1 & 3 \\\\\n",
    "    \\end{pmatrix}\n",
    "$$\n",
    " - а) з використанням універсальних функцій бібліотеки NumPy.\n",
    " - b) за допомогою ітеративних конструкцій (з використанням циклів, спискових включень тощо).\n",
    " - с) для обох випадків підрахувати час виконання скрипту та зробити висновок.\n",
    "Порівняти всі рішення за допомогою функції numpy.allclose().\n",
    "\n"
   ]
  },
  {
   "cell_type": "code",
   "execution_count": 63,
   "id": "9217c7bf",
   "metadata": {},
   "outputs": [],
   "source": [
    "\n",
    "# Задання матриць A і B\n",
    "A = np.array([[5, 2, 0],\n",
    "              [10, 4, 1],\n",
    "              [7, 3, 2]])\n",
    "\n",
    "B = np.array([[3, 6, -1],\n",
    "              [-1, -2, 0],\n",
    "              [2, 1, 3]])\n",
    "\n"
   ]
  },
  {
   "cell_type": "code",
   "execution_count": 67,
   "id": "2c7d2a0f",
   "metadata": {},
   "outputs": [
    {
     "name": "stdout",
     "output_type": "stream",
     "text": [
      "Результат за допомогою універсальних функцій NumPy:\n",
      "[[  91   64   32]\n",
      " [ 257  146    1]\n",
      " [-322 -135  -51]]\n",
      "CPU times: total: 0 ns\n",
      "Wall time: 0 ns\n"
     ]
    }
   ],
   "source": [
    "%%time\n",
    "# Обчислення значення матричного виразу за допомогою універсальних функцій NumPy\n",
    "result_np = np.dot((A - np.dot(B, B)), (2 * A + B))\n",
    "\n",
    "\n",
    "# Виведення результатів\n",
    "print(\"Результат за допомогою універсальних функцій NumPy:\")\n",
    "print(result_np)\n",
    "\n",
    "# Порівняння рішень за допомогою numpy.allclose()\n",
    "# are_close = np.allclose(result_np, result_iter)\n",
    "# print(\"\\nЧи значення близькі за допомогою numpy.allclose():\", are_close)"
   ]
  },
  {
   "cell_type": "code",
   "execution_count": 68,
   "id": "6f584675",
   "metadata": {
    "scrolled": true
   },
   "outputs": [
    {
     "name": "stdout",
     "output_type": "stream",
     "text": [
      "[[91, 64, 32], [257, 146, 1], [-322, -135, -51]]\n",
      "CPU times: total: 0 ns\n",
      "Wall time: 0 ns\n"
     ]
    }
   ],
   "source": [
    "%%time \n",
    "# Обчислення значення матричного виразу за допомогою ітеративних конструкцій\n",
    "def multiply_matrices(matrix1, matrix2):\n",
    "    result = []\n",
    "    for i in range(len(matrix1)):\n",
    "        row = []\n",
    "        for j in range(len(matrix2[0])):\n",
    "            element = 0\n",
    "            for k in range(len(matrix2)):\n",
    "                element += matrix1[i][k] * matrix2[k][j]\n",
    "            row.append(element)\n",
    "        result.append(row)\n",
    "    return result\n",
    "\n",
    "def multiply_matrix_by_scalar(matrix, scalar):\n",
    "    result = []\n",
    "    for row in matrix:\n",
    "        new_row = [element * scalar for element in row]\n",
    "        result.append(new_row)\n",
    "    return result\n",
    "\n",
    "def substract_matrix(matrix1, matrix2):\n",
    "    result = [[matrix1[i][j] - matrix2[i][j] for j in range(len(matrix1[0]))] for i in range(len(matrix1))]\n",
    "    return result\n",
    "\n",
    "def sum_matrix(matrix1, matrix2):\n",
    "    result = [[matrix1[i][j] + matrix2[i][j] for j in range(len(matrix1[0]))] for i in range(len(matrix1))]\n",
    "    return result\n",
    "\n",
    "# Знаходимо значення матриці B^2\n",
    "B_squared = multiply_matrices(B, B)\n",
    "# Віднімаємо від матриці A матрицю B^2\n",
    "first = substract_matrix(A, B_squared)\n",
    "a2 = multiply_matrix_by_scalar(A, 2)\n",
    "second = sum_matrix(a2, B)\n",
    "# Домножуємо результат на матрицю (2A+B)\n",
    "final_result = multiply_matrices(first, second)\n",
    "\n",
    "# Виводимо результат\n",
    "print(final_result)"
   ]
  },
  {
   "cell_type": "code",
   "execution_count": 69,
   "id": "cc65dc10",
   "metadata": {
    "scrolled": true
   },
   "outputs": [
    {
     "data": {
      "text/plain": [
       "True"
      ]
     },
     "execution_count": 69,
     "metadata": {},
     "output_type": "execute_result"
    }
   ],
   "source": [
    "np.allclose(result_np, final_result)"
   ]
  },
  {
   "cell_type": "code",
   "execution_count": null,
   "id": "f4c9c4e1",
   "metadata": {},
   "outputs": [],
   "source": []
  }
 ],
 "metadata": {
  "kernelspec": {
   "display_name": "Python 3 (ipykernel)",
   "language": "python",
   "name": "python3"
  },
  "language_info": {
   "codemirror_mode": {
    "name": "ipython",
    "version": 3
   },
   "file_extension": ".py",
   "mimetype": "text/x-python",
   "name": "python",
   "nbconvert_exporter": "python",
   "pygments_lexer": "ipython3",
   "version": "3.11.5"
  }
 },
 "nbformat": 4,
 "nbformat_minor": 5
}
