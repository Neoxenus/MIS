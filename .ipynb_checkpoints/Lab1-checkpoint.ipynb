{
 "cells": [
  {
   "cell_type": "markdown",
   "id": "e0a804c8",
   "metadata": {},
   "source": [
    "# Гана\n",
    "\n",
    "## <div style=\"color: yellow\">1. Основна інформація</div>\n",
    "- **Площа:** 238,535 км²\n",
    "    - **Населення:** 31 мільйонів (2022)\n",
    "- **Державний устрій:** Республіка\n",
    "\n",
    "## 2. Державний устрій\n",
    "<br>\n",
    "<div style=\"border: 2px solid #000; padding: 10px;\">\n",
    "    \n",
    "Гана є *республікою* з представницькою демократією.\n",
    "</div>\n",
    "\n",
    "## 3. Видатні персоналії\n",
    "    3.1. **Кваме Нкрума** - перший президент незалежної Гани.\n",
    "    3.2. **Джон Атта Міллз** - колишній президент і визначний політик.\n",
    "\n",
    "## 4. Пам'ятки культури та природи\n",
    "| Назва              |  Опис                                                                |\n",
    "|--------------------|----------------------------------------------------------------------|\n",
    "| Фортеця Ельміна   | Величезна фортеця, що свідчить про історію торгівлі рабами.          |\n",
    "| Озеро Вольта       | Найбільше штучне озеро в світі, створене греблею на річці Вольта.    |\n",
    "\n",
    "\n",
    "\n",
    "\n",
    "## 5. Картинки\n",
    "![Фортеця Ельміна](https://upload.wikimedia.org/wikipedia/commons/thumb/6/67/Castle_of_St._George%E2%80%99s_03.JPG/274px-Castle_of_St._George%E2%80%99s_03.JPG)\n",
    "<img src=\"https://upload.wikimedia.org/wikipedia/commons/thumb/1/19/Volta-lake-ghosttree.jpg/200px-Volta-lake-ghosttree.jpg\" alt=\"Озеро Вольта\">\n",
    "## 6. Гіперпосилання\n",
    "[Офіційний сайт Гани](https://www.ghana.gov.gh/)\n",
    "## 7. Флаг Гани\n"
   ]
  },
  {
   "cell_type": "code",
   "execution_count": 9,
   "id": "b696a09e",
   "metadata": {},
   "outputs": [
    {
     "data": {
      "text/html": [
       "<svg xmlns=\"http://www.w3.org/2000/svg\" viewBox=\"0 0 600 400\">\n",
       "    <!-- Горизонтальні смуги флагу -->\n",
       "    <rect width=\"600\" height=\"133\" fill=\"#F50707\" />\n",
       "    <rect width=\"600\" height=\"133\" y=\"133\" fill=\"#fcd116\" />\n",
       "    <rect width=\"600\" height=\"133\" y=\"266\" fill=\"#006b3f\" />\n",
       "\n",
       "    <!-- Зірка у верхній частині флагу -->\n",
       "<polygon points=\"300,140 315,185 360,185 325,215 340,260 300,230 260,260 275,215 240,185 285,185\" fill=\"#000000\"/>\n",
       "</svg>\n"
      ],
      "text/plain": [
       "<IPython.core.display.HTML object>"
      ]
     },
     "metadata": {},
     "output_type": "display_data"
    }
   ],
   "source": [
    "\n",
    "%%HTML\n",
    "<svg xmlns=\"http://www.w3.org/2000/svg\" viewBox=\"0 0 600 400\">\n",
    "    <!-- Горизонтальні смуги флагу -->\n",
    "    <rect width=\"600\" height=\"133\" fill=\"#F50707\" />\n",
    "    <rect width=\"600\" height=\"133\" y=\"133\" fill=\"#fcd116\" />\n",
    "    <rect width=\"600\" height=\"133\" y=\"266\" fill=\"#006b3f\" />\n",
    "\n",
    "    <!-- Зірка у верхній частині флагу -->\n",
    "<polygon points=\"300,140 315,185 360,185 325,215 340,260 300,230 260,260 275,215 240,185 285,185\" fill=\"#000000\"/>\n",
    "</svg>"
   ]
  },
  {
   "cell_type": "code",
   "execution_count": 34,
   "id": "77a3b31f",
   "metadata": {},
   "outputs": [],
   "source": [
    "def is_prime(num):\n",
    "    \"\"\"Функція, яка перевіряє, чи є число простим.\"\"\"\n",
    "    if num < 2:\n",
    "        return False\n",
    "    for i in range(2, int(num ** 0.5) + 1):\n",
    "        if num % i == 0:\n",
    "            return False\n",
    "    return True\n",
    "\n",
    "def kth_prime(k):\n",
    "    \"\"\"Функція, яка знаходить k-те просте число.\"\"\"\n",
    "    primes = []\n",
    "    num = 2\n",
    "    while len(primes) < k:\n",
    "        if is_prime(num):\n",
    "            primes.append(num)\n",
    "        num += 1\n",
    "    return primes[-1]\n",
    "def task_5():\n",
    "    try:\n",
    "        k = int(input(\"Введіть значення k: \"))\n",
    "        result = kth_prime(k)\n",
    "        print(f\"{k}-те просте число: {result}\")\n",
    "    except ValueError as e:\n",
    "        print(f\"Помилка: {e}\")"
   ]
  },
  {
   "cell_type": "code",
   "execution_count": 35,
   "id": "13d5250e",
   "metadata": {
    "scrolled": true
   },
   "outputs": [
    {
     "name": "stdout",
     "output_type": "stream",
     "text": [
      "Введіть значення k: 4\n",
      "4-те просте число: 7\n"
     ]
    }
   ],
   "source": [
    "task_5()"
   ]
  },
  {
   "cell_type": "code",
   "execution_count": 17,
   "id": "a91bdf0e",
   "metadata": {},
   "outputs": [
    {
     "name": "stdout",
     "output_type": "stream",
     "text": [
      "31-те просте число: 127\n"
     ]
    }
   ],
   "source": [
    "k = 31\n",
    "result = kth_prime(k)\n",
    "print(f\"{k}-те просте число: {result}\")"
   ]
  },
  {
   "cell_type": "code",
   "execution_count": 18,
   "id": "f661ecf6",
   "metadata": {},
   "outputs": [
    {
     "name": "stdout",
     "output_type": "stream",
     "text": [
      "Введіть значення k: 5\n",
      "5-те просте число: 11\n"
     ]
    }
   ],
   "source": [
    "# Введення k від користувача\n",
    "k = int(input(\"Введіть значення k: \"))\n",
    "\n",
    "# Знаходження та виведення k-го простого числа\n",
    "result = kth_prime(k)\n",
    "print(f\"{k}-те просте число: {result}\")"
   ]
  },
  {
   "cell_type": "code",
   "execution_count": null,
   "id": "996229be",
   "metadata": {},
   "outputs": [],
   "source": []
  }
 ],
 "metadata": {
  "kernelspec": {
   "display_name": "Python 3 (ipykernel)",
   "language": "python",
   "name": "python3"
  },
  "language_info": {
   "codemirror_mode": {
    "name": "ipython",
    "version": 3
   },
   "file_extension": ".py",
   "mimetype": "text/x-python",
   "name": "python",
   "nbconvert_exporter": "python",
   "pygments_lexer": "ipython3",
   "version": "3.11.5"
  }
 },
 "nbformat": 4,
 "nbformat_minor": 5
}
