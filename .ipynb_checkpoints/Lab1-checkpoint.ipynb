{
 "cells": [
  {
   "cell_type": "markdown",
   "id": "c3cfb47c",
   "metadata": {},
   "source": [
    "# Варіант 5 \n",
    "\n",
    "# Гана\n",
    "\n",
    "## <div style=\"color: yellow\">1. Основна інформація</div>\n",
    "- **Площа:** 238,535 км²\n",
    "    - **Населення:** 31 мільйонів (2022)\n",
    "- **Державний устрій:** Республіка\n",
    "\n",
    "## 2. Державний устрій\n",
    "<br>\n",
    "<div style=\"border: 2px solid #000; padding: 10px;\">\n",
    "    \n",
    "Гана є *республікою* з представницькою демократією.\n",
    "</div>\n",
    "\n",
    "## 3. Видатні персоналії\n",
    "  -  3.1 **Кваме Нкрума** - перший президент незалежної Гани.\n",
    "   - 3.2 **Джон Атта Міллз** - колишній президент і визначний політик.\n",
    "\n",
    "## 4. Пам'ятки культури та природи\n",
    "| Назва              |  Опис                                                                |\n",
    "|--------------------|----------------------------------------------------------------------|\n",
    "| Фортеця Ельміна   | Величезна фортеця, що свідчить про історію торгівлі рабами.          |\n",
    "| Озеро Вольта       | Найбільше штучне озеро в світі, створене греблею на річці Вольта.    |\n",
    "\n",
    "\n",
    "\n",
    "\n",
    "## 5. Картинки\n",
    "![Фортеця Ельміна](https://upload.wikimedia.org/wikipedia/commons/thumb/6/67/Castle_of_St._George%E2%80%99s_03.JPG/274px-Castle_of_St._George%E2%80%99s_03.JPG)\n",
    "<img src=\"https://upload.wikimedia.org/wikipedia/commons/thumb/1/19/Volta-lake-ghosttree.jpg/200px-Volta-lake-ghosttree.jpg\" alt=\"Озеро Вольта\">\n",
    "## 6. Гіперпосилання\n",
    "[Офіційний сайт Гани](https://www.ghana.gov.gh/)\n",
    "## 7. Прапор Гани\n"
   ]
  },
  {
   "cell_type": "code",
   "execution_count": 1,
   "id": "6bab32ec",
   "metadata": {},
   "outputs": [
    {
     "data": {
      "text/html": [
       "<svg xmlns=\"http://www.w3.org/2000/svg\" viewBox=\"0 0 600 400\">\n",
       "    <!-- Горизонтальні смуги флагу -->\n",
       "    <rect width=\"600\" height=\"133\" fill=\"#F50707\" />\n",
       "    <rect width=\"600\" height=\"133\" y=\"133\" fill=\"#fcd116\" />\n",
       "    <rect width=\"600\" height=\"133\" y=\"266\" fill=\"#006b3f\" />\n",
       "\n",
       "<polygon points=\"300,140 315,185 360,185 325,215 340,260 300,230 260,260 275,215 240,185 285,185\" fill=\"#000000\"/>\n",
       "</svg>\n"
      ],
      "text/plain": [
       "<IPython.core.display.HTML object>"
      ]
     },
     "metadata": {},
     "output_type": "display_data"
    }
   ],
   "source": [
    "\n",
    "%%HTML\n",
    "<svg xmlns=\"http://www.w3.org/2000/svg\" viewBox=\"0 0 600 400\">\n",
    "    <!-- Горизонтальні смуги флагу -->\n",
    "    <rect width=\"600\" height=\"133\" fill=\"#F50707\" />\n",
    "    <rect width=\"600\" height=\"133\" y=\"133\" fill=\"#fcd116\" />\n",
    "    <rect width=\"600\" height=\"133\" y=\"266\" fill=\"#006b3f\" />\n",
    "\n",
    "<polygon points=\"300,140 315,185 360,185 325,215 340,260 300,230 260,260 275,215 240,185 285,185\" fill=\"#000000\"/>\n",
    "</svg>"
   ]
  },
  {
   "cell_type": "code",
   "execution_count": 2,
   "id": "e73db9eb",
   "metadata": {},
   "outputs": [],
   "source": [
    "def is_prime(num):\n",
    "    if num < 2:\n",
    "        return False\n",
    "    for i in range(2, int(num ** 0.5) + 1):\n",
    "        if num % i == 0:\n",
    "            return False\n",
    "    return True\n",
    "\n",
    "def kth_prime(k):\n",
    "    primes = []\n",
    "    num = 2\n",
    "    while len(primes) < k:\n",
    "        if is_prime(num):\n",
    "            primes.append(num)\n",
    "        num += 1\n",
    "    return primes[-1]\n",
    "def task_5():\n",
    "    try:\n",
    "        k = int(input(\"Введіть значення k: \"))\n",
    "        if(k <= 0):\n",
    "            return (\"Помилка. Введено від'ємне число.\")\n",
    "        result = kth_prime(k)\n",
    "        return (f\"{k}-те просте число: {result}\")\n",
    "    except ValueError as e:\n",
    "        return (\"Помилка. Введено нечислове значення.\")"
   ]
  },
  {
   "cell_type": "code",
   "execution_count": 3,
   "id": "5bb9e828",
   "metadata": {
    "scrolled": true
   },
   "outputs": [
    {
     "name": "stdout",
     "output_type": "stream",
     "text": [
      "Введіть значення k: 12\n"
     ]
    },
    {
     "data": {
      "text/plain": [
       "'12-те просте число: 37'"
      ]
     },
     "execution_count": 3,
     "metadata": {},
     "output_type": "execute_result"
    }
   ],
   "source": [
    "task_5()"
   ]
  },
  {
   "cell_type": "code",
   "execution_count": 4,
   "id": "e4bdb258",
   "metadata": {
    "scrolled": false
   },
   "outputs": [
    {
     "name": "stdout",
     "output_type": "stream",
     "text": [
      "Введіть значення k: -1\n"
     ]
    },
    {
     "data": {
      "text/plain": [
       "\"Помилка. Введено від'ємне число.\""
      ]
     },
     "execution_count": 4,
     "metadata": {},
     "output_type": "execute_result"
    }
   ],
   "source": [
    "task_5()"
   ]
  },
  {
   "cell_type": "code",
   "execution_count": 5,
   "id": "1d8f941a",
   "metadata": {
    "scrolled": true
   },
   "outputs": [
    {
     "name": "stdout",
     "output_type": "stream",
     "text": [
      "Введіть значення k: sss\n"
     ]
    },
    {
     "data": {
      "text/plain": [
       "'Помилка. Введено нечислове значення.'"
      ]
     },
     "execution_count": 5,
     "metadata": {},
     "output_type": "execute_result"
    }
   ],
   "source": [
    "task_5()"
   ]
  },
  {
   "cell_type": "code",
   "execution_count": null,
   "id": "d576d6dc",
   "metadata": {},
   "outputs": [],
   "source": []
  }
 ],
 "metadata": {
  "kernelspec": {
   "display_name": "Python 3 (ipykernel)",
   "language": "python",
   "name": "python3"
  },
  "language_info": {
   "codemirror_mode": {
    "name": "ipython",
    "version": 3
   },
   "file_extension": ".py",
   "mimetype": "text/x-python",
   "name": "python",
   "nbconvert_exporter": "python",
   "pygments_lexer": "ipython3",
   "version": "3.11.5"
  }
 },
 "nbformat": 4,
 "nbformat_minor": 5
}
